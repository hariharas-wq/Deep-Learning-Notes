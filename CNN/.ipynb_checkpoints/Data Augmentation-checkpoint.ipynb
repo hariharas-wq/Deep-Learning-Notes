{
 "cells": [
  {
   "cell_type": "code",
   "execution_count": 7,
   "id": "cf896d08",
   "metadata": {},
   "outputs": [],
   "source": [
    "from keras.preprocessing.image import ImageDataGenerator\n",
    "from tensorflow.keras.utils import img_to_array\n",
    "from tensorflow.keras.utils import array_to_img\n",
    "from tensorflow.keras.utils import load_img\n",
    "\n"
   ]
  },
  {
   "cell_type": "code",
   "execution_count": 14,
   "id": "c775a8f3",
   "metadata": {},
   "outputs": [],
   "source": [
    "datagen=ImageDataGenerator(rotation_range=40,width_shift_range=0.2,height_shift_range=0.2,shear_range=0.2,zoom_range=0.2,horizontal_flip=True,fill_mode='nearest')\n",
    "img=load_img('Images/Dog_or_cat.jpg') #Image\n",
    "X=img_to_array(img)\n",
    "X=X.reshape((1,)+X.shape)\n",
    "\n",
    "#this.flow() command below generates batches of randomly transformed images\n",
    "#and saves the result in 'preview/' directory\n",
    "\n",
    "i=0\n",
    "for batch in datagen.flow(X,batch_size=1,save_to_dir='preview',save_prefix='cat',save_format='jpeg'):\n",
    "    i+=1\n",
    "    if i>20:\n",
    "        break\n",
    "        "
   ]
  },
  {
   "cell_type": "code",
   "execution_count": 10,
   "id": "fac2d8dd",
   "metadata": {},
   "outputs": [
    {
     "data": {
      "text/plain": [
       "(1199, 1200, 3)"
      ]
     },
     "execution_count": 10,
     "metadata": {},
     "output_type": "execute_result"
    }
   ],
   "source": [
    "X.shape"
   ]
  },
  {
   "cell_type": "code",
   "execution_count": 15,
   "id": "b3985c59",
   "metadata": {},
   "outputs": [],
   "source": [
    "import tensorflow as tf\n",
    "from tensorflow import keras\n",
    "from keras_tuner.tuners import RandomSearch"
   ]
  },
  {
   "cell_type": "code",
   "execution_count": 16,
   "id": "952843b2",
   "metadata": {},
   "outputs": [],
   "source": [
    "fashion_mnist=keras.datasets.fashion_mnist"
   ]
  },
  {
   "cell_type": "code",
   "execution_count": 17,
   "id": "0150632f",
   "metadata": {},
   "outputs": [
    {
     "name": "stdout",
     "output_type": "stream",
     "text": [
      "Downloading data from https://storage.googleapis.com/tensorflow/tf-keras-datasets/train-labels-idx1-ubyte.gz\n",
      "29515/29515 [==============================] - 0s 0us/step\n",
      "Downloading data from https://storage.googleapis.com/tensorflow/tf-keras-datasets/train-images-idx3-ubyte.gz\n",
      "26421880/26421880 [==============================] - 3s 0us/step\n",
      "Downloading data from https://storage.googleapis.com/tensorflow/tf-keras-datasets/t10k-labels-idx1-ubyte.gz\n",
      "5148/5148 [==============================] - 0s 0s/step\n",
      "Downloading data from https://storage.googleapis.com/tensorflow/tf-keras-datasets/t10k-images-idx3-ubyte.gz\n",
      "4422102/4422102 [==============================] - 0s 0us/step\n"
     ]
    }
   ],
   "source": [
    "(train_images,train_labels),(test_images,test_labels)=fashion_mnist.load_data()"
   ]
  },
  {
   "cell_type": "code",
   "execution_count": 18,
   "id": "3d68db07",
   "metadata": {},
   "outputs": [],
   "source": [
    "#image scaling between 0 to 1\n",
    "train_images=train_images/255.0\n",
    "test_images=test_images/255.0"
   ]
  },
  {
   "cell_type": "code",
   "execution_count": 19,
   "id": "7f2d0b88",
   "metadata": {},
   "outputs": [
    {
     "data": {
      "text/plain": [
       "(28, 28)"
      ]
     },
     "execution_count": 19,
     "metadata": {},
     "output_type": "execute_result"
    }
   ],
   "source": [
    "train_images[0].shape"
   ]
  },
  {
   "cell_type": "code",
   "execution_count": 20,
   "id": "49d2cdb8",
   "metadata": {},
   "outputs": [],
   "source": [
    "train_images=train_images.reshape(len(train_images),28,28,1)\n",
    "test_images=test_images.reshape(len(test_images),28,28,1)"
   ]
  },
  {
   "cell_type": "code",
   "execution_count": 25,
   "id": "3f33c0ba",
   "metadata": {},
   "outputs": [],
   "source": [
    "def build_model(hp):\n",
    "    model=keras.models.Sequential([\n",
    "        keras.layers.Conv2D(\n",
    "            filters=hp.Int('conv_1_filter',min_value=32,max_value=128,step=16),\n",
    "            kernel_size=hp.Choice('conv_1_kernel',values=[3,5]),\n",
    "            activation='relu',\n",
    "            input_shape=(28,28,1)\n",
    "        ),\n",
    "        keras.layers.Conv2D(\n",
    "            filters=hp.Int('conv_2_filter',min_value=32,max_value=64,step=16),\n",
    "            kernel_size=hp.Choice('conv_2_kernel',values=[3,5]),\n",
    "            activation='relu'\n",
    "        \n",
    "        ),\n",
    "        keras.layers.Flatten(),\n",
    "        keras.layers.Dense(units=hp.Int('dense_1_units',min_value=32,max_value=128,step=16),activation='relu'),\n",
    "        keras.layers.Dense(10,activation='softmax')\n",
    "        \n",
    "    ])\n",
    "    \n",
    "    model.compile(optimizer=keras.optimizers.Adam(hp.Choice('learning_rate',values=[1e-2,1e-3])),loss='sparse_categorical_crossentropy',metrics=['accuracy'])\n",
    "    \n",
    "    return model\n",
    "    "
   ]
  },
  {
   "cell_type": "code",
   "execution_count": 26,
   "id": "c13eb155",
   "metadata": {},
   "outputs": [],
   "source": [
    "from keras_tuner.engine.hyperparameters import HyperParameters"
   ]
  },
  {
   "cell_type": "code",
   "execution_count": 27,
   "id": "3dab89ee",
   "metadata": {},
   "outputs": [],
   "source": [
    "tuner_search=RandomSearch(build_model,objective='val_accuracy',max_trials=5,directory='output',project_name=\"MNIST_Fashion\")"
   ]
  },
  {
   "cell_type": "code",
   "execution_count": 30,
   "id": "1ef3e03c",
   "metadata": {},
   "outputs": [
    {
     "name": "stdout",
     "output_type": "stream",
     "text": [
      "Trial 5 Complete [00h 07m 23s]\n",
      "val_accuracy: 0.9023333191871643\n",
      "\n",
      "Best val_accuracy So Far: 0.9123333096504211\n",
      "Total elapsed time: 01h 02m 28s\n",
      "INFO:tensorflow:Oracle triggered exit\n"
     ]
    }
   ],
   "source": [
    "tuner_search.search(train_images,train_labels,epochs=3,validation_split=0.1)"
   ]
  },
  {
   "cell_type": "code",
   "execution_count": 31,
   "id": "a81ccb1c",
   "metadata": {},
   "outputs": [
    {
     "name": "stdout",
     "output_type": "stream",
     "text": [
      "Model: \"sequential\"\n",
      "_________________________________________________________________\n",
      " Layer (type)                Output Shape              Param #   \n",
      "=================================================================\n",
      " conv2d (Conv2D)             (None, 26, 26, 48)        480       \n",
      "                                                                 \n",
      " conv2d_1 (Conv2D)           (None, 22, 22, 48)        57648     \n",
      "                                                                 \n",
      " flatten (Flatten)           (None, 23232)             0         \n",
      "                                                                 \n",
      " dense (Dense)               (None, 64)                1486912   \n",
      "                                                                 \n",
      " dense_1 (Dense)             (None, 10)                650       \n",
      "                                                                 \n",
      "=================================================================\n",
      "Total params: 1,545,690\n",
      "Trainable params: 1,545,690\n",
      "Non-trainable params: 0\n",
      "_________________________________________________________________\n"
     ]
    }
   ],
   "source": [
    "model=tuner_search.get_best_models(num_models=1)[0]\n",
    "model.summary()"
   ]
  },
  {
   "cell_type": "code",
   "execution_count": 32,
   "id": "1c86cbc3",
   "metadata": {},
   "outputs": [
    {
     "name": "stdout",
     "output_type": "stream",
     "text": [
      "Epoch 4/10\n",
      "1688/1688 [==============================] - 124s 73ms/step - loss: 0.1511 - accuracy: 0.9433 - val_loss: 0.2491 - val_accuracy: 0.9102\n",
      "Epoch 5/10\n",
      "1688/1688 [==============================] - 127s 75ms/step - loss: 0.1114 - accuracy: 0.9584 - val_loss: 0.2775 - val_accuracy: 0.9140\n",
      "Epoch 6/10\n",
      "1688/1688 [==============================] - 120s 71ms/step - loss: 0.0815 - accuracy: 0.9702 - val_loss: 0.2981 - val_accuracy: 0.9092\n",
      "Epoch 7/10\n",
      "1688/1688 [==============================] - 118s 70ms/step - loss: 0.0621 - accuracy: 0.9769 - val_loss: 0.3130 - val_accuracy: 0.9100\n",
      "Epoch 8/10\n",
      "1688/1688 [==============================] - 119s 71ms/step - loss: 0.0450 - accuracy: 0.9842 - val_loss: 0.3960 - val_accuracy: 0.9123\n",
      "Epoch 9/10\n",
      "1688/1688 [==============================] - 123s 73ms/step - loss: 0.0345 - accuracy: 0.9874 - val_loss: 0.4000 - val_accuracy: 0.9147\n",
      "Epoch 10/10\n",
      "1688/1688 [==============================] - 122s 72ms/step - loss: 0.0274 - accuracy: 0.9903 - val_loss: 0.4250 - val_accuracy: 0.9108\n"
     ]
    },
    {
     "data": {
      "text/plain": [
       "<keras.callbacks.History at 0x2a689a55100>"
      ]
     },
     "execution_count": 32,
     "metadata": {},
     "output_type": "execute_result"
    }
   ],
   "source": [
    "model.fit(train_images,train_labels,epochs=10,validation_split=0.1,initial_epoch=3)"
   ]
  },
  {
   "cell_type": "code",
   "execution_count": null,
   "id": "887b7d57",
   "metadata": {},
   "outputs": [],
   "source": []
  }
 ],
 "metadata": {
  "kernelspec": {
   "display_name": "Python 3 (ipykernel)",
   "language": "python",
   "name": "python3"
  },
  "language_info": {
   "codemirror_mode": {
    "name": "ipython",
    "version": 3
   },
   "file_extension": ".py",
   "mimetype": "text/x-python",
   "name": "python",
   "nbconvert_exporter": "python",
   "pygments_lexer": "ipython3",
   "version": "3.9.12"
  }
 },
 "nbformat": 4,
 "nbformat_minor": 5
}
