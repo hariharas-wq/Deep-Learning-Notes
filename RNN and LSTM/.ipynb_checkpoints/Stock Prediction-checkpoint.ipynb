{
 "cells": [
  {
   "cell_type": "code",
   "execution_count": 3,
   "id": "50543a69",
   "metadata": {},
   "outputs": [],
   "source": [
    "import pandas_datareader as pdr"
   ]
  },
  {
   "cell_type": "code",
   "execution_count": 2,
   "id": "f407b6ec",
   "metadata": {},
   "outputs": [
    {
     "name": "stdout",
     "output_type": "stream",
     "text": [
      "Collecting pandas_datareader\n",
      "  Downloading pandas_datareader-0.10.0-py3-none-any.whl (109 kB)\n",
      "Requirement already satisfied: requests>=2.19.0 in c:\\users\\harir\\anaconda3\\lib\\site-packages (from pandas_datareader) (2.27.1)\n",
      "Requirement already satisfied: pandas>=0.23 in c:\\users\\harir\\anaconda3\\lib\\site-packages (from pandas_datareader) (1.4.2)\n",
      "Requirement already satisfied: lxml in c:\\users\\harir\\anaconda3\\lib\\site-packages (from pandas_datareader) (4.8.0)\n",
      "Requirement already satisfied: numpy>=1.18.5 in c:\\users\\harir\\anaconda3\\lib\\site-packages (from pandas>=0.23->pandas_datareader) (1.21.5)\n",
      "Requirement already satisfied: pytz>=2020.1 in c:\\users\\harir\\anaconda3\\lib\\site-packages (from pandas>=0.23->pandas_datareader) (2021.3)\n",
      "Requirement already satisfied: python-dateutil>=2.8.1 in c:\\users\\harir\\anaconda3\\lib\\site-packages (from pandas>=0.23->pandas_datareader) (2.8.2)\n",
      "Requirement already satisfied: six>=1.5 in c:\\users\\harir\\anaconda3\\lib\\site-packages (from python-dateutil>=2.8.1->pandas>=0.23->pandas_datareader) (1.16.0)\n",
      "Requirement already satisfied: certifi>=2017.4.17 in c:\\users\\harir\\anaconda3\\lib\\site-packages (from requests>=2.19.0->pandas_datareader) (2021.10.8)\n",
      "Requirement already satisfied: charset-normalizer~=2.0.0 in c:\\users\\harir\\anaconda3\\lib\\site-packages (from requests>=2.19.0->pandas_datareader) (2.0.4)\n",
      "Requirement already satisfied: urllib3<1.27,>=1.21.1 in c:\\users\\harir\\anaconda3\\lib\\site-packages (from requests>=2.19.0->pandas_datareader) (1.26.9)\n",
      "Requirement already satisfied: idna<4,>=2.5 in c:\\users\\harir\\anaconda3\\lib\\site-packages (from requests>=2.19.0->pandas_datareader) (3.3)\n",
      "Installing collected packages: pandas-datareader\n",
      "Successfully installed pandas-datareader-0.10.0\n"
     ]
    }
   ],
   "source": [
    "!pip install pandas_datareader"
   ]
  },
  {
   "cell_type": "code",
   "execution_count": 5,
   "id": "17d8f63e",
   "metadata": {},
   "outputs": [
    {
     "name": "stderr",
     "output_type": "stream",
     "text": [
      "C:\\Users\\harir\\anaconda3\\lib\\site-packages\\pandas_datareader\\tiingo.py:234: FutureWarning: In a future version of pandas all arguments of concat except for the argument 'objs' will be keyword-only.\n",
      "  return pd.concat(dfs, self._concat_axis)\n"
     ]
    }
   ],
   "source": [
    "df=pdr.get_data_tiingo('AAPL',api_key='a5e62013a29d4bde9912aeeaa40509bbcfb07c96')"
   ]
  },
  {
   "cell_type": "code",
   "execution_count": 6,
   "id": "7e451339",
   "metadata": {},
   "outputs": [],
   "source": [
    "df.to_csv('AAPL.csv')"
   ]
  },
  {
   "cell_type": "code",
   "execution_count": 7,
   "id": "7bd4f17d",
   "metadata": {},
   "outputs": [],
   "source": [
    "import pandas as pd"
   ]
  },
  {
   "cell_type": "code",
   "execution_count": 8,
   "id": "1ef92af7",
   "metadata": {},
   "outputs": [],
   "source": [
    "df=pd.read_csv('AAPL.csv')"
   ]
  },
  {
   "cell_type": "code",
   "execution_count": 10,
   "id": "3295fc33",
   "metadata": {},
   "outputs": [
    {
     "data": {
      "text/html": [
       "<div>\n",
       "<style scoped>\n",
       "    .dataframe tbody tr th:only-of-type {\n",
       "        vertical-align: middle;\n",
       "    }\n",
       "\n",
       "    .dataframe tbody tr th {\n",
       "        vertical-align: top;\n",
       "    }\n",
       "\n",
       "    .dataframe thead th {\n",
       "        text-align: right;\n",
       "    }\n",
       "</style>\n",
       "<table border=\"1\" class=\"dataframe\">\n",
       "  <thead>\n",
       "    <tr style=\"text-align: right;\">\n",
       "      <th></th>\n",
       "      <th>symbol</th>\n",
       "      <th>date</th>\n",
       "      <th>close</th>\n",
       "      <th>high</th>\n",
       "      <th>low</th>\n",
       "      <th>open</th>\n",
       "      <th>volume</th>\n",
       "      <th>adjClose</th>\n",
       "      <th>adjHigh</th>\n",
       "      <th>adjLow</th>\n",
       "      <th>adjOpen</th>\n",
       "      <th>adjVolume</th>\n",
       "      <th>divCash</th>\n",
       "      <th>splitFactor</th>\n",
       "    </tr>\n",
       "  </thead>\n",
       "  <tbody>\n",
       "    <tr>\n",
       "      <th>1253</th>\n",
       "      <td>AAPL</td>\n",
       "      <td>2022-11-14 00:00:00+00:00</td>\n",
       "      <td>148.28</td>\n",
       "      <td>150.28</td>\n",
       "      <td>147.4300</td>\n",
       "      <td>148.970</td>\n",
       "      <td>73374114</td>\n",
       "      <td>148.28</td>\n",
       "      <td>150.28</td>\n",
       "      <td>147.4300</td>\n",
       "      <td>148.970</td>\n",
       "      <td>73374114</td>\n",
       "      <td>0.0</td>\n",
       "      <td>1.0</td>\n",
       "    </tr>\n",
       "    <tr>\n",
       "      <th>1254</th>\n",
       "      <td>AAPL</td>\n",
       "      <td>2022-11-15 00:00:00+00:00</td>\n",
       "      <td>150.04</td>\n",
       "      <td>153.59</td>\n",
       "      <td>148.5613</td>\n",
       "      <td>152.215</td>\n",
       "      <td>89868332</td>\n",
       "      <td>150.04</td>\n",
       "      <td>153.59</td>\n",
       "      <td>148.5613</td>\n",
       "      <td>152.215</td>\n",
       "      <td>89868332</td>\n",
       "      <td>0.0</td>\n",
       "      <td>1.0</td>\n",
       "    </tr>\n",
       "    <tr>\n",
       "      <th>1255</th>\n",
       "      <td>AAPL</td>\n",
       "      <td>2022-11-16 00:00:00+00:00</td>\n",
       "      <td>148.79</td>\n",
       "      <td>149.87</td>\n",
       "      <td>147.2900</td>\n",
       "      <td>149.130</td>\n",
       "      <td>64218266</td>\n",
       "      <td>148.79</td>\n",
       "      <td>149.87</td>\n",
       "      <td>147.2900</td>\n",
       "      <td>149.130</td>\n",
       "      <td>64218266</td>\n",
       "      <td>0.0</td>\n",
       "      <td>1.0</td>\n",
       "    </tr>\n",
       "    <tr>\n",
       "      <th>1256</th>\n",
       "      <td>AAPL</td>\n",
       "      <td>2022-11-17 00:00:00+00:00</td>\n",
       "      <td>150.72</td>\n",
       "      <td>151.48</td>\n",
       "      <td>146.1500</td>\n",
       "      <td>146.430</td>\n",
       "      <td>80389400</td>\n",
       "      <td>150.72</td>\n",
       "      <td>151.48</td>\n",
       "      <td>146.1500</td>\n",
       "      <td>146.430</td>\n",
       "      <td>80389400</td>\n",
       "      <td>0.0</td>\n",
       "      <td>1.0</td>\n",
       "    </tr>\n",
       "    <tr>\n",
       "      <th>1257</th>\n",
       "      <td>AAPL</td>\n",
       "      <td>2022-11-18 00:00:00+00:00</td>\n",
       "      <td>151.29</td>\n",
       "      <td>152.70</td>\n",
       "      <td>149.9700</td>\n",
       "      <td>152.305</td>\n",
       "      <td>74829573</td>\n",
       "      <td>151.29</td>\n",
       "      <td>152.70</td>\n",
       "      <td>149.9700</td>\n",
       "      <td>152.305</td>\n",
       "      <td>74829573</td>\n",
       "      <td>0.0</td>\n",
       "      <td>1.0</td>\n",
       "    </tr>\n",
       "  </tbody>\n",
       "</table>\n",
       "</div>"
      ],
      "text/plain": [
       "     symbol                       date   close    high       low     open  \\\n",
       "1253   AAPL  2022-11-14 00:00:00+00:00  148.28  150.28  147.4300  148.970   \n",
       "1254   AAPL  2022-11-15 00:00:00+00:00  150.04  153.59  148.5613  152.215   \n",
       "1255   AAPL  2022-11-16 00:00:00+00:00  148.79  149.87  147.2900  149.130   \n",
       "1256   AAPL  2022-11-17 00:00:00+00:00  150.72  151.48  146.1500  146.430   \n",
       "1257   AAPL  2022-11-18 00:00:00+00:00  151.29  152.70  149.9700  152.305   \n",
       "\n",
       "        volume  adjClose  adjHigh    adjLow  adjOpen  adjVolume  divCash  \\\n",
       "1253  73374114    148.28   150.28  147.4300  148.970   73374114      0.0   \n",
       "1254  89868332    150.04   153.59  148.5613  152.215   89868332      0.0   \n",
       "1255  64218266    148.79   149.87  147.2900  149.130   64218266      0.0   \n",
       "1256  80389400    150.72   151.48  146.1500  146.430   80389400      0.0   \n",
       "1257  74829573    151.29   152.70  149.9700  152.305   74829573      0.0   \n",
       "\n",
       "      splitFactor  \n",
       "1253          1.0  \n",
       "1254          1.0  \n",
       "1255          1.0  \n",
       "1256          1.0  \n",
       "1257          1.0  "
      ]
     },
     "execution_count": 10,
     "metadata": {},
     "output_type": "execute_result"
    }
   ],
   "source": [
    "df.tail()"
   ]
  },
  {
   "cell_type": "code",
   "execution_count": 9,
   "id": "73b32cc8",
   "metadata": {},
   "outputs": [
    {
     "data": {
      "text/html": [
       "<div>\n",
       "<style scoped>\n",
       "    .dataframe tbody tr th:only-of-type {\n",
       "        vertical-align: middle;\n",
       "    }\n",
       "\n",
       "    .dataframe tbody tr th {\n",
       "        vertical-align: top;\n",
       "    }\n",
       "\n",
       "    .dataframe thead th {\n",
       "        text-align: right;\n",
       "    }\n",
       "</style>\n",
       "<table border=\"1\" class=\"dataframe\">\n",
       "  <thead>\n",
       "    <tr style=\"text-align: right;\">\n",
       "      <th></th>\n",
       "      <th>symbol</th>\n",
       "      <th>date</th>\n",
       "      <th>close</th>\n",
       "      <th>high</th>\n",
       "      <th>low</th>\n",
       "      <th>open</th>\n",
       "      <th>volume</th>\n",
       "      <th>adjClose</th>\n",
       "      <th>adjHigh</th>\n",
       "      <th>adjLow</th>\n",
       "      <th>adjOpen</th>\n",
       "      <th>adjVolume</th>\n",
       "      <th>divCash</th>\n",
       "      <th>splitFactor</th>\n",
       "    </tr>\n",
       "  </thead>\n",
       "  <tbody>\n",
       "    <tr>\n",
       "      <th>0</th>\n",
       "      <td>AAPL</td>\n",
       "      <td>2017-11-21 00:00:00+00:00</td>\n",
       "      <td>173.14</td>\n",
       "      <td>173.70</td>\n",
       "      <td>170.7800</td>\n",
       "      <td>170.78</td>\n",
       "      <td>24875471</td>\n",
       "      <td>41.157796</td>\n",
       "      <td>41.290916</td>\n",
       "      <td>40.596791</td>\n",
       "      <td>40.596791</td>\n",
       "      <td>99501884</td>\n",
       "      <td>0.0</td>\n",
       "      <td>1.0</td>\n",
       "    </tr>\n",
       "    <tr>\n",
       "      <th>1</th>\n",
       "      <td>AAPL</td>\n",
       "      <td>2017-11-22 00:00:00+00:00</td>\n",
       "      <td>174.96</td>\n",
       "      <td>175.00</td>\n",
       "      <td>173.0500</td>\n",
       "      <td>173.36</td>\n",
       "      <td>24997274</td>\n",
       "      <td>41.590436</td>\n",
       "      <td>41.599944</td>\n",
       "      <td>41.136402</td>\n",
       "      <td>41.210093</td>\n",
       "      <td>99989096</td>\n",
       "      <td>0.0</td>\n",
       "      <td>1.0</td>\n",
       "    </tr>\n",
       "    <tr>\n",
       "      <th>2</th>\n",
       "      <td>AAPL</td>\n",
       "      <td>2017-11-24 00:00:00+00:00</td>\n",
       "      <td>174.97</td>\n",
       "      <td>175.50</td>\n",
       "      <td>174.6459</td>\n",
       "      <td>175.10</td>\n",
       "      <td>14026519</td>\n",
       "      <td>41.592813</td>\n",
       "      <td>41.718801</td>\n",
       "      <td>41.515770</td>\n",
       "      <td>41.623716</td>\n",
       "      <td>56106076</td>\n",
       "      <td>0.0</td>\n",
       "      <td>1.0</td>\n",
       "    </tr>\n",
       "    <tr>\n",
       "      <th>3</th>\n",
       "      <td>AAPL</td>\n",
       "      <td>2017-11-27 00:00:00+00:00</td>\n",
       "      <td>174.09</td>\n",
       "      <td>175.08</td>\n",
       "      <td>173.3400</td>\n",
       "      <td>175.05</td>\n",
       "      <td>20536313</td>\n",
       "      <td>41.383624</td>\n",
       "      <td>41.618961</td>\n",
       "      <td>41.205339</td>\n",
       "      <td>41.611830</td>\n",
       "      <td>82145252</td>\n",
       "      <td>0.0</td>\n",
       "      <td>1.0</td>\n",
       "    </tr>\n",
       "    <tr>\n",
       "      <th>4</th>\n",
       "      <td>AAPL</td>\n",
       "      <td>2017-11-28 00:00:00+00:00</td>\n",
       "      <td>173.07</td>\n",
       "      <td>174.87</td>\n",
       "      <td>171.8600</td>\n",
       "      <td>174.30</td>\n",
       "      <td>25468442</td>\n",
       "      <td>41.141156</td>\n",
       "      <td>41.569041</td>\n",
       "      <td>40.853522</td>\n",
       "      <td>41.433544</td>\n",
       "      <td>101873768</td>\n",
       "      <td>0.0</td>\n",
       "      <td>1.0</td>\n",
       "    </tr>\n",
       "  </tbody>\n",
       "</table>\n",
       "</div>"
      ],
      "text/plain": [
       "  symbol                       date   close    high       low    open  \\\n",
       "0   AAPL  2017-11-21 00:00:00+00:00  173.14  173.70  170.7800  170.78   \n",
       "1   AAPL  2017-11-22 00:00:00+00:00  174.96  175.00  173.0500  173.36   \n",
       "2   AAPL  2017-11-24 00:00:00+00:00  174.97  175.50  174.6459  175.10   \n",
       "3   AAPL  2017-11-27 00:00:00+00:00  174.09  175.08  173.3400  175.05   \n",
       "4   AAPL  2017-11-28 00:00:00+00:00  173.07  174.87  171.8600  174.30   \n",
       "\n",
       "     volume   adjClose    adjHigh     adjLow    adjOpen  adjVolume  divCash  \\\n",
       "0  24875471  41.157796  41.290916  40.596791  40.596791   99501884      0.0   \n",
       "1  24997274  41.590436  41.599944  41.136402  41.210093   99989096      0.0   \n",
       "2  14026519  41.592813  41.718801  41.515770  41.623716   56106076      0.0   \n",
       "3  20536313  41.383624  41.618961  41.205339  41.611830   82145252      0.0   \n",
       "4  25468442  41.141156  41.569041  40.853522  41.433544  101873768      0.0   \n",
       "\n",
       "   splitFactor  \n",
       "0          1.0  \n",
       "1          1.0  \n",
       "2          1.0  \n",
       "3          1.0  \n",
       "4          1.0  "
      ]
     },
     "execution_count": 9,
     "metadata": {},
     "output_type": "execute_result"
    }
   ],
   "source": [
    "df.head()"
   ]
  },
  {
   "cell_type": "code",
   "execution_count": 25,
   "id": "61d0e04d",
   "metadata": {},
   "outputs": [
    {
     "data": {
      "text/html": [
       "<div>\n",
       "<style scoped>\n",
       "    .dataframe tbody tr th:only-of-type {\n",
       "        vertical-align: middle;\n",
       "    }\n",
       "\n",
       "    .dataframe tbody tr th {\n",
       "        vertical-align: top;\n",
       "    }\n",
       "\n",
       "    .dataframe thead th {\n",
       "        text-align: right;\n",
       "    }\n",
       "</style>\n",
       "<table border=\"1\" class=\"dataframe\">\n",
       "  <thead>\n",
       "    <tr style=\"text-align: right;\">\n",
       "      <th></th>\n",
       "      <th>symbol</th>\n",
       "    </tr>\n",
       "  </thead>\n",
       "  <tbody>\n",
       "    <tr>\n",
       "      <th>0</th>\n",
       "      <td>AAPL</td>\n",
       "    </tr>\n",
       "  </tbody>\n",
       "</table>\n",
       "</div>"
      ],
      "text/plain": [
       "  symbol\n",
       "0   AAPL"
      ]
     },
     "execution_count": 25,
     "metadata": {},
     "output_type": "execute_result"
    }
   ],
   "source": [
    "df.iloc[0:1,:1]"
   ]
  },
  {
   "cell_type": "code",
   "execution_count": null,
   "id": "a6a70c98",
   "metadata": {},
   "outputs": [],
   "source": []
  },
  {
   "cell_type": "code",
   "execution_count": 11,
   "id": "13a47019",
   "metadata": {},
   "outputs": [],
   "source": [
    "df1=df.reset_index()['close']"
   ]
  },
  {
   "cell_type": "code",
   "execution_count": 12,
   "id": "d7a13a0c",
   "metadata": {},
   "outputs": [
    {
     "data": {
      "text/plain": [
       "0       173.14\n",
       "1       174.96\n",
       "2       174.97\n",
       "3       174.09\n",
       "4       173.07\n",
       "         ...  \n",
       "1253    148.28\n",
       "1254    150.04\n",
       "1255    148.79\n",
       "1256    150.72\n",
       "1257    151.29\n",
       "Name: close, Length: 1258, dtype: float64"
      ]
     },
     "execution_count": 12,
     "metadata": {},
     "output_type": "execute_result"
    }
   ],
   "source": [
    "df1"
   ]
  },
  {
   "cell_type": "code",
   "execution_count": 13,
   "id": "3b3ef801",
   "metadata": {},
   "outputs": [
    {
     "data": {
      "text/plain": [
       "(1258,)"
      ]
     },
     "execution_count": 13,
     "metadata": {},
     "output_type": "execute_result"
    }
   ],
   "source": [
    "df1.shape"
   ]
  },
  {
   "cell_type": "code",
   "execution_count": 14,
   "id": "b686e799",
   "metadata": {},
   "outputs": [
    {
     "data": {
      "text/plain": [
       "[<matplotlib.lines.Line2D at 0x2297c921430>]"
      ]
     },
     "execution_count": 14,
     "metadata": {},
     "output_type": "execute_result"
    },
    {
     "data": {
      "image/png": "[encoded data removed]",
      "text/plain": [
       "<Figure size 432x288 with 1 Axes>"
      ]
     },
     "metadata": {
      "needs_background": "light"
     },
     "output_type": "display_data"
    }
   ],
   "source": [
    "import matplotlib.pyplot as plt\n",
    "plt.plot(df1)"
   ]
  },
  {
   "cell_type": "code",
   "execution_count": 17,
   "id": "ad923270",
   "metadata": {},
   "outputs": [],
   "source": [
    "#LSTM is more sensitive to the scale of the data then apply mixmax scaler\n",
    "import numpy as np"
   ]
  },
  {
   "cell_type": "code",
   "execution_count": 18,
   "id": "9cab2a7a",
   "metadata": {},
   "outputs": [],
   "source": [
    "from sklearn.preprocessing import MinMaxScaler\n",
    "scaler=MinMaxScaler(feature_range=(0,1))\n",
    "df1=scaler.fit_transform(np.array(df1).reshape(-1,1))"
   ]
  },
  {
   "cell_type": "code",
   "execution_count": 19,
   "id": "f2b0d711",
   "metadata": {},
   "outputs": [
    {
     "data": {
      "text/plain": [
       "(1258, 1)"
      ]
     },
     "execution_count": 19,
     "metadata": {},
     "output_type": "execute_result"
    }
   ],
   "source": [
    "df1.shape"
   ]
  },
  {
   "cell_type": "code",
   "execution_count": 20,
   "id": "4e0579d8",
   "metadata": {},
   "outputs": [
    {
     "data": {
      "text/plain": [
       "array([[0.16606137],\n",
       "       [0.17061991],\n",
       "       [0.17064496],\n",
       "       ...,\n",
       "       [0.10507201],\n",
       "       [0.10990607],\n",
       "       [0.11133375]])"
      ]
     },
     "execution_count": 20,
     "metadata": {},
     "output_type": "execute_result"
    }
   ],
   "source": [
    "df1"
   ]
  },
  {
   "cell_type": "code",
   "execution_count": 27,
   "id": "2d92b831",
   "metadata": {},
   "outputs": [],
   "source": [
    "train_size=int(len(df1)*0.65)\n",
    "test_size=len(df1)-train_size\n",
    "train_data,test_data=df1[0:train_size,:],df1[train_size:len(df1),:1]"
   ]
  },
  {
   "cell_type": "code",
   "execution_count": 28,
   "id": "e975ca27",
   "metadata": {},
   "outputs": [
    {
     "data": {
      "text/plain": [
       "(817, 1)"
      ]
     },
     "execution_count": 28,
     "metadata": {},
     "output_type": "execute_result"
    }
   ],
   "source": [
    "train_data.shape"
   ]
  },
  {
   "cell_type": "code",
   "execution_count": 30,
   "id": "f2dba9f0",
   "metadata": {},
   "outputs": [
    {
     "data": {
      "text/plain": [
       "817"
      ]
     },
     "execution_count": 30,
     "metadata": {},
     "output_type": "execute_result"
    }
   ],
   "source": [
    "train_data.size"
   ]
  },
  {
   "cell_type": "code",
   "execution_count": 31,
   "id": "2a14bb60",
   "metadata": {},
   "outputs": [
    {
     "data": {
      "text/plain": [
       "441"
      ]
     },
     "execution_count": 31,
     "metadata": {},
     "output_type": "execute_result"
    }
   ],
   "source": [
    "test_data.size"
   ]
  },
  {
   "cell_type": "code",
   "execution_count": 34,
   "id": "657cff5f",
   "metadata": {},
   "outputs": [],
   "source": [
    "import numpy\n",
    "# convert an array of values into a dataset matrix\n",
    "def create_dataset(dataset, time_step=1):\n",
    "\tdataX, dataY = [], []\n",
    "\tfor i in range(len(dataset)-time_step-1):\n",
    "\t\ta = dataset[i:(i+time_step), 0]   ###i=0, 0,1,2,3-----99   100 \n",
    "\t\tdataX.append(a)\n",
    "\t\tdataY.append(dataset[i + time_step, 0])\n",
    "\treturn numpy.array(dataX), numpy.array(dataY)\n"
   ]
  },
  {
   "cell_type": "code",
   "execution_count": 35,
   "id": "6d095521",
   "metadata": {},
   "outputs": [],
   "source": [
    "time_step=100\n",
    "X_train,y_train=create_dataset(train_data,time_step)\n",
    "X_test,y_test=create_dataset(test_data,time_step)"
   ]
  },
  {
   "cell_type": "code",
   "execution_count": null,
   "id": "12d2853a",
   "metadata": {},
   "outputs": [],
   "source": []
  }
 ],
 "metadata": {
  "kernelspec": {
   "display_name": "Python 3 (ipykernel)",
   "language": "python",
   "name": "python3"
  },
  "language_info": {
   "codemirror_mode": {
    "name": "ipython",
    "version": 3
   },
   "file_extension": ".py",
   "mimetype": "text/x-python",
   "name": "python",
   "nbconvert_exporter": "python",
   "pygments_lexer": "ipython3",
   "version": "3.9.12"
  }
 },
 "nbformat": 4,
 "nbformat_minor": 5
}
