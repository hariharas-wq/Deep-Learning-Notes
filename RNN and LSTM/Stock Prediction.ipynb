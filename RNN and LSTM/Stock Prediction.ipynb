{
 "cells": [
  {
   "cell_type": "code",
   "execution_count": 2,
   "id": "50543a69",
   "metadata": {},
   "outputs": [],
   "source": [
    "import pandas_datareader as pdr"
   ]
  },
  {
   "cell_type": "code",
   "execution_count": 2,
   "id": "f407b6ec",
   "metadata": {},
   "outputs": [
    {
     "name": "stdout",
     "output_type": "stream",
     "text": [
      "Collecting pandas_datareader\n",
      "  Downloading pandas_datareader-0.10.0-py3-none-any.whl (109 kB)\n",
      "Requirement already satisfied: requests>=2.19.0 in c:\\users\\harir\\anaconda3\\lib\\site-packages (from pandas_datareader) (2.27.1)\n",
      "Requirement already satisfied: pandas>=0.23 in c:\\users\\harir\\anaconda3\\lib\\site-packages (from pandas_datareader) (1.4.2)\n",
      "Requirement already satisfied: lxml in c:\\users\\harir\\anaconda3\\lib\\site-packages (from pandas_datareader) (4.8.0)\n",
      "Requirement already satisfied: numpy>=1.18.5 in c:\\users\\harir\\anaconda3\\lib\\site-packages (from pandas>=0.23->pandas_datareader) (1.21.5)\n",
      "Requirement already satisfied: pytz>=2020.1 in c:\\users\\harir\\anaconda3\\lib\\site-packages (from pandas>=0.23->pandas_datareader) (2021.3)\n",
      "Requirement already satisfied: python-dateutil>=2.8.1 in c:\\users\\harir\\anaconda3\\lib\\site-packages (from pandas>=0.23->pandas_datareader) (2.8.2)\n",
      "Requirement already satisfied: six>=1.5 in c:\\users\\harir\\anaconda3\\lib\\site-packages (from python-dateutil>=2.8.1->pandas>=0.23->pandas_datareader) (1.16.0)\n",
      "Requirement already satisfied: certifi>=2017.4.17 in c:\\users\\harir\\anaconda3\\lib\\site-packages (from requests>=2.19.0->pandas_datareader) (2021.10.8)\n",
      "Requirement already satisfied: charset-normalizer~=2.0.0 in c:\\users\\harir\\anaconda3\\lib\\site-packages (from requests>=2.19.0->pandas_datareader) (2.0.4)\n",
      "Requirement already satisfied: urllib3<1.27,>=1.21.1 in c:\\users\\harir\\anaconda3\\lib\\site-packages (from requests>=2.19.0->pandas_datareader) (1.26.9)\n",
      "Requirement already satisfied: idna<4,>=2.5 in c:\\users\\harir\\anaconda3\\lib\\site-packages (from requests>=2.19.0->pandas_datareader) (3.3)\n",
      "Installing collected packages: pandas-datareader\n",
      "Successfully installed pandas-datareader-0.10.0\n"
     ]
    }
   ],
   "source": [
    "!pip install pandas_datareader"
   ]
  },
  {
   "cell_type": "code",
   "execution_count": 3,
   "id": "17d8f63e",
   "metadata": {},
   "outputs": [
    {
     "name": "stderr",
     "output_type": "stream",
     "text": [
      "C:\\Users\\harir\\anaconda3\\lib\\site-packages\\pandas_datareader\\tiingo.py:234: FutureWarning: In a future version of pandas all arguments of concat except for the argument 'objs' will be keyword-only.\n",
      "  return pd.concat(dfs, self._concat_axis)\n"
     ]
    }
   ],
   "source": [
    "df=pdr.get_data_tiingo('AAPL',api_key='a5e62013a29d4bde9912aeeaa40509bbcfb07c96')"
   ]
  },
  {
   "cell_type": "code",
   "execution_count": 4,
   "id": "7e451339",
   "metadata": {},
   "outputs": [],
   "source": [
    "df.to_csv('AAPL.csv')"
   ]
  },
  {
   "cell_type": "code",
   "execution_count": 5,
   "id": "7bd4f17d",
   "metadata": {},
   "outputs": [],
   "source": [
    "import pandas as pd"
   ]
  },
  {
   "cell_type": "code",
   "execution_count": 6,
   "id": "1ef92af7",
   "metadata": {},
   "outputs": [],
   "source": [
    "df=pd.read_csv('AAPL.csv')"
   ]
  },
  {
   "cell_type": "code",
   "execution_count": 7,
   "id": "3295fc33",
   "metadata": {},
   "outputs": [
    {
     "data": {
      "text/html": [
       "<div>\n",
       "<style scoped>\n",
       "    .dataframe tbody tr th:only-of-type {\n",
       "        vertical-align: middle;\n",
       "    }\n",
       "\n",
       "    .dataframe tbody tr th {\n",
       "        vertical-align: top;\n",
       "    }\n",
       "\n",
       "    .dataframe thead th {\n",
       "        text-align: right;\n",
       "    }\n",
       "</style>\n",
       "<table border=\"1\" class=\"dataframe\">\n",
       "  <thead>\n",
       "    <tr style=\"text-align: right;\">\n",
       "      <th></th>\n",
       "      <th>symbol</th>\n",
       "      <th>date</th>\n",
       "      <th>close</th>\n",
       "      <th>high</th>\n",
       "      <th>low</th>\n",
       "      <th>open</th>\n",
       "      <th>volume</th>\n",
       "      <th>adjClose</th>\n",
       "      <th>adjHigh</th>\n",
       "      <th>adjLow</th>\n",
       "      <th>adjOpen</th>\n",
       "      <th>adjVolume</th>\n",
       "      <th>divCash</th>\n",
       "      <th>splitFactor</th>\n",
       "    </tr>\n",
       "  </thead>\n",
       "  <tbody>\n",
       "    <tr>\n",
       "      <th>1252</th>\n",
       "      <td>AAPL</td>\n",
       "      <td>2022-11-14 00:00:00+00:00</td>\n",
       "      <td>148.28</td>\n",
       "      <td>150.28</td>\n",
       "      <td>147.4300</td>\n",
       "      <td>148.970</td>\n",
       "      <td>73374114</td>\n",
       "      <td>148.28</td>\n",
       "      <td>150.28</td>\n",
       "      <td>147.4300</td>\n",
       "      <td>148.970</td>\n",
       "      <td>73374114</td>\n",
       "      <td>0.0</td>\n",
       "      <td>1.0</td>\n",
       "    </tr>\n",
       "    <tr>\n",
       "      <th>1253</th>\n",
       "      <td>AAPL</td>\n",
       "      <td>2022-11-15 00:00:00+00:00</td>\n",
       "      <td>150.04</td>\n",
       "      <td>153.59</td>\n",
       "      <td>148.5613</td>\n",
       "      <td>152.215</td>\n",
       "      <td>89868332</td>\n",
       "      <td>150.04</td>\n",
       "      <td>153.59</td>\n",
       "      <td>148.5613</td>\n",
       "      <td>152.215</td>\n",
       "      <td>89868332</td>\n",
       "      <td>0.0</td>\n",
       "      <td>1.0</td>\n",
       "    </tr>\n",
       "    <tr>\n",
       "      <th>1254</th>\n",
       "      <td>AAPL</td>\n",
       "      <td>2022-11-16 00:00:00+00:00</td>\n",
       "      <td>148.79</td>\n",
       "      <td>149.87</td>\n",
       "      <td>147.2900</td>\n",
       "      <td>149.130</td>\n",
       "      <td>64218266</td>\n",
       "      <td>148.79</td>\n",
       "      <td>149.87</td>\n",
       "      <td>147.2900</td>\n",
       "      <td>149.130</td>\n",
       "      <td>64218266</td>\n",
       "      <td>0.0</td>\n",
       "      <td>1.0</td>\n",
       "    </tr>\n",
       "    <tr>\n",
       "      <th>1255</th>\n",
       "      <td>AAPL</td>\n",
       "      <td>2022-11-17 00:00:00+00:00</td>\n",
       "      <td>150.72</td>\n",
       "      <td>151.48</td>\n",
       "      <td>146.1500</td>\n",
       "      <td>146.430</td>\n",
       "      <td>80389400</td>\n",
       "      <td>150.72</td>\n",
       "      <td>151.48</td>\n",
       "      <td>146.1500</td>\n",
       "      <td>146.430</td>\n",
       "      <td>80389400</td>\n",
       "      <td>0.0</td>\n",
       "      <td>1.0</td>\n",
       "    </tr>\n",
       "    <tr>\n",
       "      <th>1256</th>\n",
       "      <td>AAPL</td>\n",
       "      <td>2022-11-18 00:00:00+00:00</td>\n",
       "      <td>151.29</td>\n",
       "      <td>152.70</td>\n",
       "      <td>149.9700</td>\n",
       "      <td>152.305</td>\n",
       "      <td>74829573</td>\n",
       "      <td>151.29</td>\n",
       "      <td>152.70</td>\n",
       "      <td>149.9700</td>\n",
       "      <td>152.305</td>\n",
       "      <td>74829573</td>\n",
       "      <td>0.0</td>\n",
       "      <td>1.0</td>\n",
       "    </tr>\n",
       "  </tbody>\n",
       "</table>\n",
       "</div>"
      ],
      "text/plain": [
       "     symbol                       date   close    high       low     open  \\\n",
       "1252   AAPL  2022-11-14 00:00:00+00:00  148.28  150.28  147.4300  148.970   \n",
       "1253   AAPL  2022-11-15 00:00:00+00:00  150.04  153.59  148.5613  152.215   \n",
       "1254   AAPL  2022-11-16 00:00:00+00:00  148.79  149.87  147.2900  149.130   \n",
       "1255   AAPL  2022-11-17 00:00:00+00:00  150.72  151.48  146.1500  146.430   \n",
       "1256   AAPL  2022-11-18 00:00:00+00:00  151.29  152.70  149.9700  152.305   \n",
       "\n",
       "        volume  adjClose  adjHigh    adjLow  adjOpen  adjVolume  divCash  \\\n",
       "1252  73374114    148.28   150.28  147.4300  148.970   73374114      0.0   \n",
       "1253  89868332    150.04   153.59  148.5613  152.215   89868332      0.0   \n",
       "1254  64218266    148.79   149.87  147.2900  149.130   64218266      0.0   \n",
       "1255  80389400    150.72   151.48  146.1500  146.430   80389400      0.0   \n",
       "1256  74829573    151.29   152.70  149.9700  152.305   74829573      0.0   \n",
       "\n",
       "      splitFactor  \n",
       "1252          1.0  \n",
       "1253          1.0  \n",
       "1254          1.0  \n",
       "1255          1.0  \n",
       "1256          1.0  "
      ]
     },
     "execution_count": 7,
     "metadata": {},
     "output_type": "execute_result"
    }
   ],
   "source": [
    "df.tail()"
   ]
  },
  {
   "cell_type": "code",
   "execution_count": 8,
   "id": "73b32cc8",
   "metadata": {},
   "outputs": [
    {
     "data": {
      "text/html": [
       "<div>\n",
       "<style scoped>\n",
       "    .dataframe tbody tr th:only-of-type {\n",
       "        vertical-align: middle;\n",
       "    }\n",
       "\n",
       "    .dataframe tbody tr th {\n",
       "        vertical-align: top;\n",
       "    }\n",
       "\n",
       "    .dataframe thead th {\n",
       "        text-align: right;\n",
       "    }\n",
       "</style>\n",
       "<table border=\"1\" class=\"dataframe\">\n",
       "  <thead>\n",
       "    <tr style=\"text-align: right;\">\n",
       "      <th></th>\n",
       "      <th>symbol</th>\n",
       "      <th>date</th>\n",
       "      <th>close</th>\n",
       "      <th>high</th>\n",
       "      <th>low</th>\n",
       "      <th>open</th>\n",
       "      <th>volume</th>\n",
       "      <th>adjClose</th>\n",
       "      <th>adjHigh</th>\n",
       "      <th>adjLow</th>\n",
       "      <th>adjOpen</th>\n",
       "      <th>adjVolume</th>\n",
       "      <th>divCash</th>\n",
       "      <th>splitFactor</th>\n",
       "    </tr>\n",
       "  </thead>\n",
       "  <tbody>\n",
       "    <tr>\n",
       "      <th>0</th>\n",
       "      <td>AAPL</td>\n",
       "      <td>2017-11-22 00:00:00+00:00</td>\n",
       "      <td>174.96</td>\n",
       "      <td>175.00</td>\n",
       "      <td>173.0500</td>\n",
       "      <td>173.36</td>\n",
       "      <td>24997274</td>\n",
       "      <td>41.590436</td>\n",
       "      <td>41.599944</td>\n",
       "      <td>41.136402</td>\n",
       "      <td>41.210093</td>\n",
       "      <td>99989096</td>\n",
       "      <td>0.0</td>\n",
       "      <td>1.0</td>\n",
       "    </tr>\n",
       "    <tr>\n",
       "      <th>1</th>\n",
       "      <td>AAPL</td>\n",
       "      <td>2017-11-24 00:00:00+00:00</td>\n",
       "      <td>174.97</td>\n",
       "      <td>175.50</td>\n",
       "      <td>174.6459</td>\n",
       "      <td>175.10</td>\n",
       "      <td>14026519</td>\n",
       "      <td>41.592813</td>\n",
       "      <td>41.718801</td>\n",
       "      <td>41.515770</td>\n",
       "      <td>41.623716</td>\n",
       "      <td>56106076</td>\n",
       "      <td>0.0</td>\n",
       "      <td>1.0</td>\n",
       "    </tr>\n",
       "    <tr>\n",
       "      <th>2</th>\n",
       "      <td>AAPL</td>\n",
       "      <td>2017-11-27 00:00:00+00:00</td>\n",
       "      <td>174.09</td>\n",
       "      <td>175.08</td>\n",
       "      <td>173.3400</td>\n",
       "      <td>175.05</td>\n",
       "      <td>20536313</td>\n",
       "      <td>41.383624</td>\n",
       "      <td>41.618961</td>\n",
       "      <td>41.205339</td>\n",
       "      <td>41.611830</td>\n",
       "      <td>82145252</td>\n",
       "      <td>0.0</td>\n",
       "      <td>1.0</td>\n",
       "    </tr>\n",
       "    <tr>\n",
       "      <th>3</th>\n",
       "      <td>AAPL</td>\n",
       "      <td>2017-11-28 00:00:00+00:00</td>\n",
       "      <td>173.07</td>\n",
       "      <td>174.87</td>\n",
       "      <td>171.8600</td>\n",
       "      <td>174.30</td>\n",
       "      <td>25468442</td>\n",
       "      <td>41.141156</td>\n",
       "      <td>41.569041</td>\n",
       "      <td>40.853522</td>\n",
       "      <td>41.433544</td>\n",
       "      <td>101873768</td>\n",
       "      <td>0.0</td>\n",
       "      <td>1.0</td>\n",
       "    </tr>\n",
       "    <tr>\n",
       "      <th>4</th>\n",
       "      <td>AAPL</td>\n",
       "      <td>2017-11-29 00:00:00+00:00</td>\n",
       "      <td>169.48</td>\n",
       "      <td>172.92</td>\n",
       "      <td>167.1600</td>\n",
       "      <td>172.63</td>\n",
       "      <td>40788324</td>\n",
       "      <td>40.287763</td>\n",
       "      <td>41.105499</td>\n",
       "      <td>39.736267</td>\n",
       "      <td>41.036562</td>\n",
       "      <td>163153296</td>\n",
       "      <td>0.0</td>\n",
       "      <td>1.0</td>\n",
       "    </tr>\n",
       "  </tbody>\n",
       "</table>\n",
       "</div>"
      ],
      "text/plain": [
       "  symbol                       date   close    high       low    open  \\\n",
       "0   AAPL  2017-11-22 00:00:00+00:00  174.96  175.00  173.0500  173.36   \n",
       "1   AAPL  2017-11-24 00:00:00+00:00  174.97  175.50  174.6459  175.10   \n",
       "2   AAPL  2017-11-27 00:00:00+00:00  174.09  175.08  173.3400  175.05   \n",
       "3   AAPL  2017-11-28 00:00:00+00:00  173.07  174.87  171.8600  174.30   \n",
       "4   AAPL  2017-11-29 00:00:00+00:00  169.48  172.92  167.1600  172.63   \n",
       "\n",
       "     volume   adjClose    adjHigh     adjLow    adjOpen  adjVolume  divCash  \\\n",
       "0  24997274  41.590436  41.599944  41.136402  41.210093   99989096      0.0   \n",
       "1  14026519  41.592813  41.718801  41.515770  41.623716   56106076      0.0   \n",
       "2  20536313  41.383624  41.618961  41.205339  41.611830   82145252      0.0   \n",
       "3  25468442  41.141156  41.569041  40.853522  41.433544  101873768      0.0   \n",
       "4  40788324  40.287763  41.105499  39.736267  41.036562  163153296      0.0   \n",
       "\n",
       "   splitFactor  \n",
       "0          1.0  \n",
       "1          1.0  \n",
       "2          1.0  \n",
       "3          1.0  \n",
       "4          1.0  "
      ]
     },
     "execution_count": 8,
     "metadata": {},
     "output_type": "execute_result"
    }
   ],
   "source": [
    "df.head()"
   ]
  },
  {
   "cell_type": "code",
   "execution_count": 9,
   "id": "61d0e04d",
   "metadata": {},
   "outputs": [
    {
     "data": {
      "text/html": [
       "<div>\n",
       "<style scoped>\n",
       "    .dataframe tbody tr th:only-of-type {\n",
       "        vertical-align: middle;\n",
       "    }\n",
       "\n",
       "    .dataframe tbody tr th {\n",
       "        vertical-align: top;\n",
       "    }\n",
       "\n",
       "    .dataframe thead th {\n",
       "        text-align: right;\n",
       "    }\n",
       "</style>\n",
       "<table border=\"1\" class=\"dataframe\">\n",
       "  <thead>\n",
       "    <tr style=\"text-align: right;\">\n",
       "      <th></th>\n",
       "      <th>symbol</th>\n",
       "    </tr>\n",
       "  </thead>\n",
       "  <tbody>\n",
       "    <tr>\n",
       "      <th>0</th>\n",
       "      <td>AAPL</td>\n",
       "    </tr>\n",
       "  </tbody>\n",
       "</table>\n",
       "</div>"
      ],
      "text/plain": [
       "  symbol\n",
       "0   AAPL"
      ]
     },
     "execution_count": 9,
     "metadata": {},
     "output_type": "execute_result"
    }
   ],
   "source": [
    "df.iloc[0:1,:1]"
   ]
  },
  {
   "cell_type": "code",
   "execution_count": null,
   "id": "a6a70c98",
   "metadata": {},
   "outputs": [],
   "source": []
  },
  {
   "cell_type": "code",
   "execution_count": 10,
   "id": "13a47019",
   "metadata": {},
   "outputs": [],
   "source": [
    "df1=df.reset_index()['close']"
   ]
  },
  {
   "cell_type": "code",
   "execution_count": 11,
   "id": "d7a13a0c",
   "metadata": {},
   "outputs": [
    {
     "data": {
      "text/plain": [
       "0       174.96\n",
       "1       174.97\n",
       "2       174.09\n",
       "3       173.07\n",
       "4       169.48\n",
       "         ...  \n",
       "1252    148.28\n",
       "1253    150.04\n",
       "1254    148.79\n",
       "1255    150.72\n",
       "1256    151.29\n",
       "Name: close, Length: 1257, dtype: float64"
      ]
     },
     "execution_count": 11,
     "metadata": {},
     "output_type": "execute_result"
    }
   ],
   "source": [
    "df1"
   ]
  },
  {
   "cell_type": "code",
   "execution_count": 12,
   "id": "3b3ef801",
   "metadata": {},
   "outputs": [
    {
     "data": {
      "text/plain": [
       "(1257,)"
      ]
     },
     "execution_count": 12,
     "metadata": {},
     "output_type": "execute_result"
    }
   ],
   "source": [
    "df1.shape"
   ]
  },
  {
   "cell_type": "code",
   "execution_count": 13,
   "id": "b686e799",
   "metadata": {},
   "outputs": [
    {
     "data": {
      "text/plain": [
       "[<matplotlib.lines.Line2D at 0x15a64b27250>]"
      ]
     },
     "execution_count": 13,
     "metadata": {},
     "output_type": "execute_result"
    },
    {
     "data": {
      "image/png": "[encoded data removed]",
      "text/plain": [
       "<Figure size 432x288 with 1 Axes>"
      ]
     },
     "metadata": {
      "needs_background": "light"
     },
     "output_type": "display_data"
    }
   ],
   "source": [
    "import matplotlib.pyplot as plt\n",
    "plt.plot(df1)"
   ]
  },
  {
   "cell_type": "code",
   "execution_count": 14,
   "id": "ad923270",
   "metadata": {},
   "outputs": [],
   "source": [
    "#LSTM is more sensitive to the scale of the data then apply mixmax scaler\n",
    "import numpy as np"
   ]
  },
  {
   "cell_type": "code",
   "execution_count": 15,
   "id": "9cab2a7a",
   "metadata": {},
   "outputs": [],
   "source": [
    "from sklearn.preprocessing import MinMaxScaler\n",
    "scaler=MinMaxScaler(feature_range=(0,1))\n",
    "df1=scaler.fit_transform(np.array(df1).reshape(-1,1))"
   ]
  },
  {
   "cell_type": "code",
   "execution_count": 16,
   "id": "f2b0d711",
   "metadata": {},
   "outputs": [
    {
     "data": {
      "text/plain": [
       "(1257, 1)"
      ]
     },
     "execution_count": 16,
     "metadata": {},
     "output_type": "execute_result"
    }
   ],
   "source": [
    "df1.shape"
   ]
  },
  {
   "cell_type": "code",
   "execution_count": 17,
   "id": "4e0579d8",
   "metadata": {},
   "outputs": [
    {
     "data": {
      "text/plain": [
       "array([[0.17061991],\n",
       "       [0.17064496],\n",
       "       [0.16844083],\n",
       "       ...,\n",
       "       [0.10507201],\n",
       "       [0.10990607],\n",
       "       [0.11133375]])"
      ]
     },
     "execution_count": 17,
     "metadata": {},
     "output_type": "execute_result"
    }
   ],
   "source": [
    "df1"
   ]
  },
  {
   "cell_type": "code",
   "execution_count": 18,
   "id": "2d92b831",
   "metadata": {},
   "outputs": [],
   "source": [
    "train_size=int(len(df1)*0.65)\n",
    "test_size=len(df1)-train_size\n",
    "train_data,test_data=df1[0:train_size,:],df1[train_size:len(df1),:1]"
   ]
  },
  {
   "cell_type": "code",
   "execution_count": 19,
   "id": "e975ca27",
   "metadata": {},
   "outputs": [
    {
     "data": {
      "text/plain": [
       "(817, 1)"
      ]
     },
     "execution_count": 19,
     "metadata": {},
     "output_type": "execute_result"
    }
   ],
   "source": [
    "train_data.shape"
   ]
  },
  {
   "cell_type": "code",
   "execution_count": 20,
   "id": "f2dba9f0",
   "metadata": {},
   "outputs": [
    {
     "data": {
      "text/plain": [
       "817"
      ]
     },
     "execution_count": 20,
     "metadata": {},
     "output_type": "execute_result"
    }
   ],
   "source": [
    "train_data.size"
   ]
  },
  {
   "cell_type": "code",
   "execution_count": 21,
   "id": "2a14bb60",
   "metadata": {},
   "outputs": [
    {
     "data": {
      "text/plain": [
       "440"
      ]
     },
     "execution_count": 21,
     "metadata": {},
     "output_type": "execute_result"
    }
   ],
   "source": [
    "test_data.size"
   ]
  },
  {
   "cell_type": "code",
   "execution_count": 22,
   "id": "657cff5f",
   "metadata": {},
   "outputs": [],
   "source": [
    "import numpy\n",
    "# convert an array of values into a dataset matrix\n",
    "def create_dataset(dataset, time_step=1):\n",
    "\tdataX, dataY = [], []\n",
    "\tfor i in range(len(dataset)-time_step-1):\n",
    "\t\ta = dataset[i:(i+time_step), 0]   ###i=0, 0,1,2,3-----99   100 \n",
    "\t\tdataX.append(a)\n",
    "\t\tdataY.append(dataset[i + time_step, 0])\n",
    "\treturn numpy.array(dataX), numpy.array(dataY)\n"
   ]
  },
  {
   "cell_type": "code",
   "execution_count": 23,
   "id": "6d095521",
   "metadata": {},
   "outputs": [],
   "source": [
    "time_step=100\n",
    "X_train,y_train=create_dataset(train_data,time_step)\n",
    "X_test,y_test=create_dataset(test_data,time_step)"
   ]
  },
  {
   "cell_type": "code",
   "execution_count": 24,
   "id": "12d2853a",
   "metadata": {},
   "outputs": [
    {
     "name": "stdout",
     "output_type": "stream",
     "text": [
      "[[0.17061991 0.17064496 0.16844083 ... 0.17277395 0.17883532 0.17783344]\n",
      " [0.17064496 0.16844083 0.16588604 ... 0.17883532 0.17783344 0.16520977]\n",
      " [0.16844083 0.16588604 0.15689418 ... 0.17783344 0.16520977 0.14747652]\n",
      " ...\n",
      " [0.00345648 0.01362555 0.02033813 ... 0.07145899 0.06599875 0.06011271]\n",
      " [0.01362555 0.02033813 0.01815905 ... 0.06599875 0.06011271 0.0572824 ]\n",
      " [0.02033813 0.01815905 0.02246713 ... 0.06011271 0.0572824  0.05768316]]\n"
     ]
    }
   ],
   "source": [
    "print(X_train)"
   ]
  },
  {
   "cell_type": "code",
   "execution_count": 25,
   "id": "fb2410d6",
   "metadata": {},
   "outputs": [
    {
     "name": "stdout",
     "output_type": "stream",
     "text": [
      "(716, 100)\n",
      "(716,)\n"
     ]
    },
    {
     "data": {
      "text/plain": [
       "(None, None)"
      ]
     },
     "execution_count": 25,
     "metadata": {},
     "output_type": "execute_result"
    }
   ],
   "source": [
    "print(X_train.shape),print(y_train.shape)"
   ]
  },
  {
   "cell_type": "code",
   "execution_count": 26,
   "id": "0f69ffb2",
   "metadata": {},
   "outputs": [
    {
     "name": "stdout",
     "output_type": "stream",
     "text": [
      "(339, 100)\n",
      "(339,)\n"
     ]
    },
    {
     "data": {
      "text/plain": [
       "(None, None)"
      ]
     },
     "execution_count": 26,
     "metadata": {},
     "output_type": "execute_result"
    }
   ],
   "source": [
    "print(X_test.shape),print(y_test.shape)"
   ]
  },
  {
   "cell_type": "code",
   "execution_count": 27,
   "id": "42a54aff",
   "metadata": {},
   "outputs": [],
   "source": [
    "#reshape into three dimensional features\n",
    "X_train=X_train.reshape(X_train.shape[0],X_train.shape[1],1)\n",
    "X_test=X_test.reshape(X_test.shape[0],X_test.shape[1],1)"
   ]
  },
  {
   "cell_type": "code",
   "execution_count": 28,
   "id": "d44b375c",
   "metadata": {},
   "outputs": [],
   "source": [
    "#Creating the LSTM model\n",
    "from tensorflow.keras.models import Sequential\n",
    "from tensorflow.keras.layers import Dense\n",
    "from tensorflow.keras.layers import LSTM"
   ]
  },
  {
   "cell_type": "code",
   "execution_count": 29,
   "id": "4b764211",
   "metadata": {},
   "outputs": [],
   "source": [
    "model=Sequential()\n",
    "model.add(LSTM(50,return_sequences=True,input_shape=(100,1)))\n",
    "model.add(LSTM(50,return_sequences=True))\n",
    "model.add(LSTM(50))\n",
    "model.add(Dense(1))\n",
    "model.compile(loss='mean_squared_error',optimizer='adam')"
   ]
  },
  {
   "cell_type": "code",
   "execution_count": 30,
   "id": "03179a44",
   "metadata": {},
   "outputs": [
    {
     "name": "stdout",
     "output_type": "stream",
     "text": [
      "Model: \"sequential\"\n",
      "_________________________________________________________________\n",
      " Layer (type)                Output Shape              Param #   \n",
      "=================================================================\n",
      " lstm (LSTM)                 (None, 100, 50)           10400     \n",
      "                                                                 \n",
      " lstm_1 (LSTM)               (None, 100, 50)           20200     \n",
      "                                                                 \n",
      " lstm_2 (LSTM)               (None, 50)                20200     \n",
      "                                                                 \n",
      " dense (Dense)               (None, 1)                 51        \n",
      "                                                                 \n",
      "=================================================================\n",
      "Total params: 50,851\n",
      "Trainable params: 50,851\n",
      "Non-trainable params: 0\n",
      "_________________________________________________________________\n"
     ]
    }
   ],
   "source": [
    "model.summary()"
   ]
  },
  {
   "cell_type": "markdown",
   "id": "7f67a856",
   "metadata": {},
   "source": []
  },
  {
   "cell_type": "code",
   "execution_count": 31,
   "id": "f707eb85",
   "metadata": {},
   "outputs": [
    {
     "name": "stdout",
     "output_type": "stream",
     "text": [
      "Epoch 1/100\n",
      "12/12 [==============================] - 13s 349ms/step - loss: 0.0562 - val_loss: 0.0126\n",
      "Epoch 2/100\n",
      "12/12 [==============================] - 2s 185ms/step - loss: 0.0153 - val_loss: 0.0033\n",
      "Epoch 3/100\n",
      "12/12 [==============================] - 2s 186ms/step - loss: 0.0109 - val_loss: 5.1957e-04\n",
      "Epoch 4/100\n",
      "12/12 [==============================] - 2s 191ms/step - loss: 0.0102 - val_loss: 6.2917e-04\n",
      "Epoch 5/100\n",
      "12/12 [==============================] - 2s 181ms/step - loss: 0.0083 - val_loss: 3.1799e-04\n",
      "Epoch 6/100\n",
      "12/12 [==============================] - 2s 189ms/step - loss: 0.0104 - val_loss: 0.0053\n",
      "Epoch 7/100\n",
      "12/12 [==============================] - 2s 187ms/step - loss: 0.0077 - val_loss: 2.7359e-04\n",
      "Epoch 8/100\n",
      "12/12 [==============================] - 2s 192ms/step - loss: 0.0074 - val_loss: 0.0018\n",
      "Epoch 9/100\n",
      "12/12 [==============================] - 2s 190ms/step - loss: 0.0065 - val_loss: 3.8380e-04\n",
      "Epoch 10/100\n",
      "12/12 [==============================] - 2s 189ms/step - loss: 0.0055 - val_loss: 5.3292e-04\n",
      "Epoch 11/100\n",
      "12/12 [==============================] - 2s 189ms/step - loss: 0.0064 - val_loss: 0.0014\n",
      "Epoch 12/100\n",
      "12/12 [==============================] - 2s 194ms/step - loss: 0.0047 - val_loss: 3.4308e-04\n",
      "Epoch 13/100\n",
      "12/12 [==============================] - 2s 190ms/step - loss: 0.0049 - val_loss: 3.0599e-04\n",
      "Epoch 14/100\n",
      "12/12 [==============================] - 2s 204ms/step - loss: 0.0041 - val_loss: 2.8001e-04\n",
      "Epoch 15/100\n",
      "12/12 [==============================] - 2s 193ms/step - loss: 0.0052 - val_loss: 4.5801e-04\n",
      "Epoch 16/100\n",
      "12/12 [==============================] - 2s 182ms/step - loss: 0.0039 - val_loss: 3.4341e-04\n",
      "Epoch 17/100\n",
      "12/12 [==============================] - 2s 184ms/step - loss: 0.0033 - val_loss: 2.7567e-04\n",
      "Epoch 18/100\n",
      "12/12 [==============================] - 2s 186ms/step - loss: 0.0031 - val_loss: 4.8727e-04\n",
      "Epoch 19/100\n",
      "12/12 [==============================] - 2s 189ms/step - loss: 0.0031 - val_loss: 2.7710e-04\n",
      "Epoch 20/100\n",
      "12/12 [==============================] - 2s 179ms/step - loss: 0.0027 - val_loss: 3.0436e-04\n",
      "Epoch 21/100\n",
      "12/12 [==============================] - 2s 195ms/step - loss: 0.0025 - val_loss: 2.4298e-04\n",
      "Epoch 22/100\n",
      "12/12 [==============================] - 2s 189ms/step - loss: 0.0030 - val_loss: 3.5033e-04\n",
      "Epoch 23/100\n",
      "12/12 [==============================] - 2s 180ms/step - loss: 0.0034 - val_loss: 2.4027e-04\n",
      "Epoch 24/100\n",
      "12/12 [==============================] - 2s 183ms/step - loss: 0.0033 - val_loss: 3.4281e-04\n",
      "Epoch 25/100\n",
      "12/12 [==============================] - 2s 180ms/step - loss: 0.0026 - val_loss: 2.3652e-04\n",
      "Epoch 26/100\n",
      "12/12 [==============================] - 2s 188ms/step - loss: 0.0023 - val_loss: 2.2757e-04\n",
      "Epoch 27/100\n",
      "12/12 [==============================] - 2s 180ms/step - loss: 0.0034 - val_loss: 4.1069e-04\n",
      "Epoch 28/100\n",
      "12/12 [==============================] - 2s 184ms/step - loss: 0.0028 - val_loss: 2.3061e-04\n",
      "Epoch 29/100\n",
      "12/12 [==============================] - 2s 184ms/step - loss: 0.0032 - val_loss: 2.1266e-04\n",
      "Epoch 30/100\n",
      "12/12 [==============================] - 2s 185ms/step - loss: 0.0041 - val_loss: 4.0871e-04\n",
      "Epoch 31/100\n",
      "12/12 [==============================] - 2s 184ms/step - loss: 0.0033 - val_loss: 2.9167e-04\n",
      "Epoch 32/100\n",
      "12/12 [==============================] - 2s 184ms/step - loss: 0.0028 - val_loss: 2.4573e-04\n",
      "Epoch 33/100\n",
      "12/12 [==============================] - 2s 189ms/step - loss: 0.0023 - val_loss: 2.4296e-04\n",
      "Epoch 34/100\n",
      "12/12 [==============================] - 2s 181ms/step - loss: 0.0021 - val_loss: 2.2466e-04\n",
      "Epoch 35/100\n",
      "12/12 [==============================] - 2s 182ms/step - loss: 0.0021 - val_loss: 2.2012e-04\n",
      "Epoch 36/100\n",
      "12/12 [==============================] - 2s 191ms/step - loss: 0.0028 - val_loss: 2.4881e-04\n",
      "Epoch 37/100\n",
      "12/12 [==============================] - 2s 189ms/step - loss: 0.0024 - val_loss: 2.4507e-04\n",
      "Epoch 38/100\n",
      "12/12 [==============================] - 2s 185ms/step - loss: 0.0020 - val_loss: 4.3124e-04\n",
      "Epoch 39/100\n",
      "12/12 [==============================] - 2s 183ms/step - loss: 0.0019 - val_loss: 2.3294e-04\n",
      "Epoch 40/100\n",
      "12/12 [==============================] - 2s 185ms/step - loss: 0.0019 - val_loss: 2.3677e-04\n",
      "Epoch 41/100\n",
      "12/12 [==============================] - 2s 191ms/step - loss: 0.0017 - val_loss: 2.3778e-04\n",
      "Epoch 42/100\n",
      "12/12 [==============================] - 3s 222ms/step - loss: 0.0017 - val_loss: 2.3227e-04\n",
      "Epoch 43/100\n",
      "12/12 [==============================] - 3s 219ms/step - loss: 0.0018 - val_loss: 2.3564e-04\n",
      "Epoch 44/100\n",
      "12/12 [==============================] - 2s 188ms/step - loss: 0.0019 - val_loss: 2.2724e-04\n",
      "Epoch 45/100\n",
      "12/12 [==============================] - 2s 180ms/step - loss: 0.0018 - val_loss: 2.3874e-04\n",
      "Epoch 46/100\n",
      "12/12 [==============================] - 2s 181ms/step - loss: 0.0023 - val_loss: 2.7535e-04\n",
      "Epoch 47/100\n",
      "12/12 [==============================] - 2s 184ms/step - loss: 0.0017 - val_loss: 2.2780e-04\n",
      "Epoch 48/100\n",
      "12/12 [==============================] - 2s 195ms/step - loss: 0.0017 - val_loss: 2.9924e-04\n",
      "Epoch 49/100\n",
      "12/12 [==============================] - 3s 225ms/step - loss: 0.0048 - val_loss: 0.0011\n",
      "Epoch 50/100\n",
      "12/12 [==============================] - 2s 198ms/step - loss: 0.0029 - val_loss: 3.5629e-04\n",
      "Epoch 51/100\n",
      "12/12 [==============================] - 2s 189ms/step - loss: 0.0023 - val_loss: 2.5639e-04\n",
      "Epoch 52/100\n",
      "12/12 [==============================] - 2s 179ms/step - loss: 0.0017 - val_loss: 2.3153e-04\n",
      "Epoch 53/100\n",
      "12/12 [==============================] - 2s 182ms/step - loss: 0.0016 - val_loss: 2.2665e-04\n",
      "Epoch 54/100\n",
      "12/12 [==============================] - 2s 184ms/step - loss: 0.0018 - val_loss: 2.4432e-04\n",
      "Epoch 55/100\n",
      "12/12 [==============================] - 2s 186ms/step - loss: 0.0018 - val_loss: 2.4395e-04\n",
      "Epoch 56/100\n",
      "12/12 [==============================] - 2s 183ms/step - loss: 0.0016 - val_loss: 2.5453e-04\n",
      "Epoch 57/100\n",
      "12/12 [==============================] - 2s 185ms/step - loss: 0.0032 - val_loss: 7.4407e-04\n",
      "Epoch 58/100\n",
      "12/12 [==============================] - 2s 190ms/step - loss: 0.0022 - val_loss: 2.7053e-04\n",
      "Epoch 59/100\n",
      "12/12 [==============================] - 2s 186ms/step - loss: 0.0017 - val_loss: 2.3018e-04\n",
      "Epoch 60/100\n",
      "12/12 [==============================] - 2s 182ms/step - loss: 0.0017 - val_loss: 2.1575e-04\n",
      "Epoch 61/100\n",
      "12/12 [==============================] - 2s 183ms/step - loss: 0.0016 - val_loss: 2.2264e-04\n",
      "Epoch 62/100\n",
      "12/12 [==============================] - 2s 190ms/step - loss: 0.0017 - val_loss: 2.2138e-04\n",
      "Epoch 63/100\n",
      "12/12 [==============================] - 2s 183ms/step - loss: 0.0016 - val_loss: 2.3983e-04\n",
      "Epoch 64/100\n",
      "12/12 [==============================] - 2s 191ms/step - loss: 0.0015 - val_loss: 2.1574e-04\n",
      "Epoch 65/100\n",
      "12/12 [==============================] - 2s 194ms/step - loss: 0.0014 - val_loss: 2.1588e-04\n",
      "Epoch 66/100\n",
      "12/12 [==============================] - 2s 187ms/step - loss: 0.0013 - val_loss: 2.1677e-04\n",
      "Epoch 67/100\n",
      "12/12 [==============================] - 2s 184ms/step - loss: 0.0017 - val_loss: 2.2088e-04\n",
      "Epoch 68/100\n",
      "12/12 [==============================] - 2s 182ms/step - loss: 0.0013 - val_loss: 2.1752e-04\n",
      "Epoch 69/100\n",
      "12/12 [==============================] - 2s 194ms/step - loss: 0.0017 - val_loss: 2.2639e-04\n",
      "Epoch 70/100\n",
      "12/12 [==============================] - 2s 178ms/step - loss: 0.0018 - val_loss: 3.9605e-04\n",
      "Epoch 71/100\n",
      "12/12 [==============================] - 2s 182ms/step - loss: 0.0017 - val_loss: 2.9577e-04\n",
      "Epoch 72/100\n",
      "12/12 [==============================] - 2s 191ms/step - loss: 0.0014 - val_loss: 2.2175e-04\n",
      "Epoch 73/100\n",
      "12/12 [==============================] - 2s 183ms/step - loss: 0.0013 - val_loss: 2.3276e-04\n",
      "Epoch 74/100\n",
      "12/12 [==============================] - 2s 173ms/step - loss: 0.0013 - val_loss: 2.3108e-04\n",
      "Epoch 75/100\n",
      "12/12 [==============================] - 2s 176ms/step - loss: 0.0025 - val_loss: 2.5902e-04\n",
      "Epoch 76/100\n",
      "12/12 [==============================] - 2s 179ms/step - loss: 0.0017 - val_loss: 2.2158e-04\n",
      "Epoch 77/100\n",
      "12/12 [==============================] - 2s 181ms/step - loss: 0.0035 - val_loss: 9.5183e-04\n",
      "Epoch 78/100\n"
     ]
    },
    {
     "name": "stdout",
     "output_type": "stream",
     "text": [
      "12/12 [==============================] - 2s 181ms/step - loss: 0.0025 - val_loss: 4.7376e-04\n",
      "Epoch 79/100\n",
      "12/12 [==============================] - 2s 185ms/step - loss: 0.0018 - val_loss: 2.3400e-04\n",
      "Epoch 80/100\n",
      "12/12 [==============================] - 2s 191ms/step - loss: 0.0015 - val_loss: 3.3064e-04\n",
      "Epoch 81/100\n",
      "12/12 [==============================] - 2s 174ms/step - loss: 0.0015 - val_loss: 2.1719e-04\n",
      "Epoch 82/100\n",
      "12/12 [==============================] - 2s 179ms/step - loss: 0.0012 - val_loss: 2.3491e-04\n",
      "Epoch 83/100\n",
      "12/12 [==============================] - 2s 175ms/step - loss: 0.0010 - val_loss: 2.7630e-04\n",
      "Epoch 84/100\n",
      "12/12 [==============================] - 2s 185ms/step - loss: 0.0024 - val_loss: 4.1625e-04\n",
      "Epoch 85/100\n",
      "12/12 [==============================] - 2s 175ms/step - loss: 0.0016 - val_loss: 4.5411e-04\n",
      "Epoch 86/100\n",
      "12/12 [==============================] - 2s 178ms/step - loss: 0.0016 - val_loss: 2.6673e-04\n",
      "Epoch 87/100\n",
      "12/12 [==============================] - 2s 187ms/step - loss: 0.0052 - val_loss: 2.5514e-04\n",
      "Epoch 88/100\n",
      "12/12 [==============================] - 2s 177ms/step - loss: 0.0041 - val_loss: 6.3902e-04\n",
      "Epoch 89/100\n",
      "12/12 [==============================] - 2s 178ms/step - loss: 0.0042 - val_loss: 0.0011\n",
      "Epoch 90/100\n",
      "12/12 [==============================] - 2s 177ms/step - loss: 0.0031 - val_loss: 2.8641e-04\n",
      "Epoch 91/100\n",
      "12/12 [==============================] - 2s 182ms/step - loss: 0.0021 - val_loss: 3.0499e-04\n",
      "Epoch 92/100\n",
      "12/12 [==============================] - 2s 171ms/step - loss: 0.0019 - val_loss: 2.0867e-04\n",
      "Epoch 93/100\n",
      "12/12 [==============================] - 2s 175ms/step - loss: 0.0019 - val_loss: 2.1749e-04\n",
      "Epoch 94/100\n",
      "12/12 [==============================] - 2s 178ms/step - loss: 0.0017 - val_loss: 2.0684e-04\n",
      "Epoch 95/100\n",
      "12/12 [==============================] - 2s 182ms/step - loss: 0.0024 - val_loss: 5.0718e-04\n",
      "Epoch 96/100\n",
      "12/12 [==============================] - 2s 182ms/step - loss: 0.0017 - val_loss: 3.2110e-04\n",
      "Epoch 97/100\n",
      "12/12 [==============================] - 2s 182ms/step - loss: 0.0018 - val_loss: 5.2605e-04\n",
      "Epoch 98/100\n",
      "12/12 [==============================] - 2s 180ms/step - loss: 0.0015 - val_loss: 2.5285e-04\n",
      "Epoch 99/100\n",
      "12/12 [==============================] - 2s 175ms/step - loss: 0.0013 - val_loss: 2.5650e-04\n",
      "Epoch 100/100\n",
      "12/12 [==============================] - 2s 175ms/step - loss: 0.0012 - val_loss: 1.9992e-04\n"
     ]
    },
    {
     "data": {
      "text/plain": [
       "<keras.callbacks.History at 0x15a70608b50>"
      ]
     },
     "execution_count": 31,
     "metadata": {},
     "output_type": "execute_result"
    }
   ],
   "source": [
    "model.fit(X_train,y_train,validation_data=(X_test,y_test),epochs=100,batch_size=64,verbose=1)"
   ]
  },
  {
   "cell_type": "code",
   "execution_count": 32,
   "id": "ad085df0",
   "metadata": {},
   "outputs": [
    {
     "name": "stdout",
     "output_type": "stream",
     "text": [
      "23/23 [==============================] - 3s 42ms/step\n",
      "11/11 [==============================] - 1s 45ms/step\n"
     ]
    }
   ],
   "source": [
    "train_predict=model.predict(X_train)\n",
    "test_predict=model.predict(X_test)"
   ]
  },
  {
   "cell_type": "code",
   "execution_count": 33,
   "id": "3d4a1789",
   "metadata": {},
   "outputs": [],
   "source": [
    "#transform into original form\n",
    "train_predict=scaler.inverse_transform(train_predict)\n",
    "test_predict=scaler.inverse_transform(test_predict)"
   ]
  },
  {
   "cell_type": "code",
   "execution_count": 34,
   "id": "1ae79092",
   "metadata": {},
   "outputs": [
    {
     "data": {
      "text/plain": [
       "230.42255137773137"
      ]
     },
     "execution_count": 34,
     "metadata": {},
     "output_type": "execute_result"
    }
   ],
   "source": [
    "import math\n",
    "from sklearn.metrics import mean_squared_error\n",
    "math.sqrt(mean_squared_error(y_train,train_predict))"
   ]
  },
  {
   "cell_type": "code",
   "execution_count": 35,
   "id": "2dfdedd5",
   "metadata": {},
   "outputs": [
    {
     "data": {
      "text/plain": [
       "156.4012391229204"
      ]
     },
     "execution_count": 35,
     "metadata": {},
     "output_type": "execute_result"
    }
   ],
   "source": [
    "math.sqrt(mean_squared_error(y_test,test_predict))"
   ]
  },
  {
   "cell_type": "code",
   "execution_count": 36,
   "id": "acdb6ef1",
   "metadata": {},
   "outputs": [
    {
     "data": {
      "image/png": "[encoded data removed]",
      "text/plain": [
       "<Figure size 432x288 with 1 Axes>"
      ]
     },
     "metadata": {
      "needs_background": "light"
     },
     "output_type": "display_data"
    }
   ],
   "source": [
    "look_back=100\n",
    "trainpredictplot=numpy.empty_like(df1)\n",
    "trainpredictplot[:,:]=numpy.nan\n",
    "trainpredictplot[look_back:len(train_predict)+look_back,:]=train_predict\n",
    "\n",
    "testpredictplot=numpy.empty_like(df1)\n",
    "testpredictplot[:,:]=numpy.nan\n",
    "testpredictplot[len(train_predict)+(2*look_back)+1:len(df1)-1,:]=test_predict\n",
    "plt.plot(scaler.inverse_transform(df1))\n",
    "plt.plot(trainpredictplot)\n",
    "plt.plot(testpredictplot)\n",
    "plt.show()"
   ]
  },
  {
   "cell_type": "code",
   "execution_count": 41,
   "id": "9796cbae",
   "metadata": {},
   "outputs": [
    {
     "data": {
      "text/plain": [
       "440"
      ]
     },
     "execution_count": 41,
     "metadata": {},
     "output_type": "execute_result"
    }
   ],
   "source": [
    "len(test_data)"
   ]
  },
  {
   "cell_type": "code",
   "execution_count": 43,
   "id": "7eb8152e",
   "metadata": {},
   "outputs": [
    {
     "data": {
      "text/plain": [
       "(1, 99)"
      ]
     },
     "execution_count": 43,
     "metadata": {},
     "output_type": "execute_result"
    }
   ],
   "source": [
    "x_input=test_data[341:].reshape(1,-1)\n",
    "x_input.shape"
   ]
  },
  {
   "cell_type": "code",
   "execution_count": 44,
   "id": "4c221dc8",
   "metadata": {},
   "outputs": [],
   "source": [
    "temp_input=list(x_input)\n",
    "temp_input=temp_input[0].tolist()"
   ]
  },
  {
   "cell_type": "code",
   "execution_count": 46,
   "id": "dc363c46",
   "metadata": {},
   "outputs": [
    {
     "data": {
      "text/plain": [
       "[0.08037570444583592,\n",
       " 0.08696305572949276,\n",
       " 0.09036944270507191,\n",
       " 0.09896055103318718,\n",
       " 0.10068879148403248,\n",
       " 0.09525360050093923,\n",
       " 0.0977332498434565,\n",
       " 0.09680651221039449,\n",
       " 0.10427050720100184,\n",
       " 0.10852849092047584,\n",
       " 0.1007639323731997,\n",
       " 0.11060738885410137,\n",
       " 0.11571696931747022,\n",
       " 0.12150281778334371,\n",
       " 0.1183469004383218,\n",
       " 0.11549154664996863,\n",
       " 0.11211020663744514,\n",
       " 0.12510958046336873,\n",
       " 0.12651221039448962,\n",
       " 0.139436443331246,\n",
       " 0.13693174702567307,\n",
       " 0.13317470256731367,\n",
       " 0.1485034439574201,\n",
       " 0.1477019411396368,\n",
       " 0.14654978083907322,\n",
       " 0.1453475266123982,\n",
       " 0.14547276142767684,\n",
       " 0.15629304946775202,\n",
       " 0.1544145272385723,\n",
       " 0.16345648090169063,\n",
       " 0.16618659987476514,\n",
       " 0.16578584846587346,\n",
       " 0.1695929868503444,\n",
       " 0.1685911083281152,\n",
       " 0.16200375704445835,\n",
       " 0.15211020663744512,\n",
       " 0.15125860989355033,\n",
       " 0.15201001878522225,\n",
       " 0.15827175954915462,\n",
       " 0.142216656230432,\n",
       " 0.1366061365059486,\n",
       " 0.13041953663118344,\n",
       " 0.12618659987476516,\n",
       " 0.12804007514088916,\n",
       " 0.1226549780839073,\n",
       " 0.1194489668127739,\n",
       " 0.12303068252974325,\n",
       " 0.1192736380713838,\n",
       " 0.12656230432060112,\n",
       " 0.14174076393237317,\n",
       " 0.1177207263619286,\n",
       " 0.12140262993112083,\n",
       " 0.11403882279273636,\n",
       " 0.10985597996242946,\n",
       " 0.11932373199749524,\n",
       " 0.1253850970569818,\n",
       " 0.1174201628052598,\n",
       " 0.11496556042579836,\n",
       " 0.10917971195992482,\n",
       " 0.11003130870381966,\n",
       " 0.11251095804633682,\n",
       " 0.10770194113963677,\n",
       " 0.08926737633061982,\n",
       " 0.07854727614276763,\n",
       " 0.08919223544145266,\n",
       " 0.09833437695679392,\n",
       " 0.09908578584846583,\n",
       " 0.09665623043206006,\n",
       " 0.08328115216030052,\n",
       " 0.08410770194113959,\n",
       " 0.08050093926111451,\n",
       " 0.07889793362554787,\n",
       " 0.09054477144646211,\n",
       " 0.07899812147777074,\n",
       " 0.08909204758922978,\n",
       " 0.0924483406386975,\n",
       " 0.09272385723231058,\n",
       " 0.09154664996869122,\n",
       " 0.1012648716343143,\n",
       " 0.10672510958046327,\n",
       " 0.11396368190356915,\n",
       " 0.10647463994990602,\n",
       " 0.09507827175954914,\n",
       " 0.1224796493425172,\n",
       " 0.11646837820914213,\n",
       " 0.10973074514715087,\n",
       " 0.0956543519098309,\n",
       " 0.08025046963055726,\n",
       " 0.07899812147777074,\n",
       " 0.08035065748278014,\n",
       " 0.08180338134001247,\n",
       " 0.07020663744520972,\n",
       " 0.10026299311208514,\n",
       " 0.10735128365685653,\n",
       " 0.103794614902943,\n",
       " 0.10820288040075132,\n",
       " 0.10507201001878513,\n",
       " 0.10990607388854096,\n",
       " 0.11133375078271751]"
      ]
     },
     "execution_count": 46,
     "metadata": {},
     "output_type": "execute_result"
    }
   ],
   "source": [
    "temp_input"
   ]
  },
  {
   "cell_type": "code",
   "execution_count": 49,
   "id": "a05a91ee",
   "metadata": {},
   "outputs": [
    {
     "name": "stdout",
     "output_type": "stream",
     "text": [
      "0 day input [0.08696306 0.09036944 0.09896055 0.10068879 0.0952536  0.09773325\n",
      " 0.09680651 0.10427051 0.10852849 0.10076393 0.11060739 0.11571697\n",
      " 0.12150282 0.1183469  0.11549155 0.11211021 0.12510958 0.12651221\n",
      " 0.13943644 0.13693175 0.1331747  0.14850344 0.14770194 0.14654978\n",
      " 0.14534753 0.14547276 0.15629305 0.15441453 0.16345648 0.1661866\n",
      " 0.16578585 0.16959299 0.16859111 0.16200376 0.15211021 0.15125861\n",
      " 0.15201002 0.15827176 0.14221666 0.13660614 0.13041954 0.1261866\n",
      " 0.12804008 0.12265498 0.11944897 0.12303068 0.11927364 0.1265623\n",
      " 0.14174076 0.11772073 0.12140263 0.11403882 0.10985598 0.11932373\n",
      " 0.1253851  0.11742016 0.11496556 0.10917971 0.11003131 0.11251096\n",
      " 0.10770194 0.08926738 0.07854728 0.08919224 0.09833438 0.09908579\n",
      " 0.09665623 0.08328115 0.0841077  0.08050094 0.07889793 0.09054477\n",
      " 0.07899812 0.08909205 0.09244834 0.09272386 0.09154665 0.10126487\n",
      " 0.10672511 0.11396368 0.10647464 0.09507827 0.12247965 0.11646838\n",
      " 0.10973075 0.09565435 0.08025047 0.07899812 0.08035066 0.08180338\n",
      " 0.07020664 0.10026299 0.10735128 0.10379461 0.10820288 0.10507201\n",
      " 0.10990607 0.11133375 0.10205823 0.10205823]\n",
      "0 day output [[0.10489073]]\n",
      "1 day input [0.09036944 0.09896055 0.10068879 0.0952536  0.09773325 0.09680651\n",
      " 0.10427051 0.10852849 0.10076393 0.11060739 0.11571697 0.12150282\n",
      " 0.1183469  0.11549155 0.11211021 0.12510958 0.12651221 0.13943644\n",
      " 0.13693175 0.1331747  0.14850344 0.14770194 0.14654978 0.14534753\n",
      " 0.14547276 0.15629305 0.15441453 0.16345648 0.1661866  0.16578585\n",
      " 0.16959299 0.16859111 0.16200376 0.15211021 0.15125861 0.15201002\n",
      " 0.15827176 0.14221666 0.13660614 0.13041954 0.1261866  0.12804008\n",
      " 0.12265498 0.11944897 0.12303068 0.11927364 0.1265623  0.14174076\n",
      " 0.11772073 0.12140263 0.11403882 0.10985598 0.11932373 0.1253851\n",
      " 0.11742016 0.11496556 0.10917971 0.11003131 0.11251096 0.10770194\n",
      " 0.08926738 0.07854728 0.08919224 0.09833438 0.09908579 0.09665623\n",
      " 0.08328115 0.0841077  0.08050094 0.07889793 0.09054477 0.07899812\n",
      " 0.08909205 0.09244834 0.09272386 0.09154665 0.10126487 0.10672511\n",
      " 0.11396368 0.10647464 0.09507827 0.12247965 0.11646838 0.10973075\n",
      " 0.09565435 0.08025047 0.07899812 0.08035066 0.08180338 0.07020664\n",
      " 0.10026299 0.10735128 0.10379461 0.10820288 0.10507201 0.10990607\n",
      " 0.11133375 0.10205823 0.10205823 0.10489073]\n",
      "1 day output [[0.10564418]]\n",
      "2 day input [0.09896055 0.10068879 0.0952536  0.09773325 0.09680651 0.10427051\n",
      " 0.10852849 0.10076393 0.11060739 0.11571697 0.12150282 0.1183469\n",
      " 0.11549155 0.11211021 0.12510958 0.12651221 0.13943644 0.13693175\n",
      " 0.1331747  0.14850344 0.14770194 0.14654978 0.14534753 0.14547276\n",
      " 0.15629305 0.15441453 0.16345648 0.1661866  0.16578585 0.16959299\n",
      " 0.16859111 0.16200376 0.15211021 0.15125861 0.15201002 0.15827176\n",
      " 0.14221666 0.13660614 0.13041954 0.1261866  0.12804008 0.12265498\n",
      " 0.11944897 0.12303068 0.11927364 0.1265623  0.14174076 0.11772073\n",
      " 0.12140263 0.11403882 0.10985598 0.11932373 0.1253851  0.11742016\n",
      " 0.11496556 0.10917971 0.11003131 0.11251096 0.10770194 0.08926738\n",
      " 0.07854728 0.08919224 0.09833438 0.09908579 0.09665623 0.08328115\n",
      " 0.0841077  0.08050094 0.07889793 0.09054477 0.07899812 0.08909205\n",
      " 0.09244834 0.09272386 0.09154665 0.10126487 0.10672511 0.11396368\n",
      " 0.10647464 0.09507827 0.12247965 0.11646838 0.10973075 0.09565435\n",
      " 0.08025047 0.07899812 0.08035066 0.08180338 0.07020664 0.10026299\n",
      " 0.10735128 0.10379461 0.10820288 0.10507201 0.10990607 0.11133375\n",
      " 0.10205823 0.10205823 0.10489073 0.10564418]\n",
      "2 day output [[0.10621285]]\n",
      "3 day input [0.10068879 0.0952536  0.09773325 0.09680651 0.10427051 0.10852849\n",
      " 0.10076393 0.11060739 0.11571697 0.12150282 0.1183469  0.11549155\n",
      " 0.11211021 0.12510958 0.12651221 0.13943644 0.13693175 0.1331747\n",
      " 0.14850344 0.14770194 0.14654978 0.14534753 0.14547276 0.15629305\n",
      " 0.15441453 0.16345648 0.1661866  0.16578585 0.16959299 0.16859111\n",
      " 0.16200376 0.15211021 0.15125861 0.15201002 0.15827176 0.14221666\n",
      " 0.13660614 0.13041954 0.1261866  0.12804008 0.12265498 0.11944897\n",
      " 0.12303068 0.11927364 0.1265623  0.14174076 0.11772073 0.12140263\n",
      " 0.11403882 0.10985598 0.11932373 0.1253851  0.11742016 0.11496556\n",
      " 0.10917971 0.11003131 0.11251096 0.10770194 0.08926738 0.07854728\n",
      " 0.08919224 0.09833438 0.09908579 0.09665623 0.08328115 0.0841077\n",
      " 0.08050094 0.07889793 0.09054477 0.07899812 0.08909205 0.09244834\n",
      " 0.09272386 0.09154665 0.10126487 0.10672511 0.11396368 0.10647464\n",
      " 0.09507827 0.12247965 0.11646838 0.10973075 0.09565435 0.08025047\n",
      " 0.07899812 0.08035066 0.08180338 0.07020664 0.10026299 0.10735128\n",
      " 0.10379461 0.10820288 0.10507201 0.10990607 0.11133375 0.10205823\n",
      " 0.10205823 0.10489073 0.10564418 0.10621285]\n",
      "3 day output [[0.10670305]]\n",
      "4 day input [0.0952536  0.09773325 0.09680651 0.10427051 0.10852849 0.10076393\n",
      " 0.11060739 0.11571697 0.12150282 0.1183469  0.11549155 0.11211021\n",
      " 0.12510958 0.12651221 0.13943644 0.13693175 0.1331747  0.14850344\n",
      " 0.14770194 0.14654978 0.14534753 0.14547276 0.15629305 0.15441453\n",
      " 0.16345648 0.1661866  0.16578585 0.16959299 0.16859111 0.16200376\n",
      " 0.15211021 0.15125861 0.15201002 0.15827176 0.14221666 0.13660614\n",
      " 0.13041954 0.1261866  0.12804008 0.12265498 0.11944897 0.12303068\n",
      " 0.11927364 0.1265623  0.14174076 0.11772073 0.12140263 0.11403882\n",
      " 0.10985598 0.11932373 0.1253851  0.11742016 0.11496556 0.10917971\n",
      " 0.11003131 0.11251096 0.10770194 0.08926738 0.07854728 0.08919224\n",
      " 0.09833438 0.09908579 0.09665623 0.08328115 0.0841077  0.08050094\n",
      " 0.07889793 0.09054477 0.07899812 0.08909205 0.09244834 0.09272386\n",
      " 0.09154665 0.10126487 0.10672511 0.11396368 0.10647464 0.09507827\n",
      " 0.12247965 0.11646838 0.10973075 0.09565435 0.08025047 0.07899812\n",
      " 0.08035066 0.08180338 0.07020664 0.10026299 0.10735128 0.10379461\n",
      " 0.10820288 0.10507201 0.10990607 0.11133375 0.10205823 0.10205823\n",
      " 0.10489073 0.10564418 0.10621285 0.10670305]\n",
      "4 day output [[0.10716817]]\n",
      "5 day input [0.09773325 0.09680651 0.10427051 0.10852849 0.10076393 0.11060739\n",
      " 0.11571697 0.12150282 0.1183469  0.11549155 0.11211021 0.12510958\n",
      " 0.12651221 0.13943644 0.13693175 0.1331747  0.14850344 0.14770194\n",
      " 0.14654978 0.14534753 0.14547276 0.15629305 0.15441453 0.16345648\n",
      " 0.1661866  0.16578585 0.16959299 0.16859111 0.16200376 0.15211021\n",
      " 0.15125861 0.15201002 0.15827176 0.14221666 0.13660614 0.13041954\n",
      " 0.1261866  0.12804008 0.12265498 0.11944897 0.12303068 0.11927364\n",
      " 0.1265623  0.14174076 0.11772073 0.12140263 0.11403882 0.10985598\n",
      " 0.11932373 0.1253851  0.11742016 0.11496556 0.10917971 0.11003131\n",
      " 0.11251096 0.10770194 0.08926738 0.07854728 0.08919224 0.09833438\n",
      " 0.09908579 0.09665623 0.08328115 0.0841077  0.08050094 0.07889793\n",
      " 0.09054477 0.07899812 0.08909205 0.09244834 0.09272386 0.09154665\n",
      " 0.10126487 0.10672511 0.11396368 0.10647464 0.09507827 0.12247965\n",
      " 0.11646838 0.10973075 0.09565435 0.08025047 0.07899812 0.08035066\n",
      " 0.08180338 0.07020664 0.10026299 0.10735128 0.10379461 0.10820288\n",
      " 0.10507201 0.10990607 0.11133375 0.10205823 0.10205823 0.10489073\n",
      " 0.10564418 0.10621285 0.10670305 0.10716817]\n",
      "5 day output [[0.10762979]]\n",
      "6 day input [0.09680651 0.10427051 0.10852849 0.10076393 0.11060739 0.11571697\n",
      " 0.12150282 0.1183469  0.11549155 0.11211021 0.12510958 0.12651221\n",
      " 0.13943644 0.13693175 0.1331747  0.14850344 0.14770194 0.14654978\n",
      " 0.14534753 0.14547276 0.15629305 0.15441453 0.16345648 0.1661866\n",
      " 0.16578585 0.16959299 0.16859111 0.16200376 0.15211021 0.15125861\n",
      " 0.15201002 0.15827176 0.14221666 0.13660614 0.13041954 0.1261866\n",
      " 0.12804008 0.12265498 0.11944897 0.12303068 0.11927364 0.1265623\n",
      " 0.14174076 0.11772073 0.12140263 0.11403882 0.10985598 0.11932373\n",
      " 0.1253851  0.11742016 0.11496556 0.10917971 0.11003131 0.11251096\n",
      " 0.10770194 0.08926738 0.07854728 0.08919224 0.09833438 0.09908579\n",
      " 0.09665623 0.08328115 0.0841077  0.08050094 0.07889793 0.09054477\n",
      " 0.07899812 0.08909205 0.09244834 0.09272386 0.09154665 0.10126487\n",
      " 0.10672511 0.11396368 0.10647464 0.09507827 0.12247965 0.11646838\n",
      " 0.10973075 0.09565435 0.08025047 0.07899812 0.08035066 0.08180338\n",
      " 0.07020664 0.10026299 0.10735128 0.10379461 0.10820288 0.10507201\n",
      " 0.10990607 0.11133375 0.10205823 0.10205823 0.10489073 0.10564418\n",
      " 0.10621285 0.10670305 0.10716817 0.10762979]\n",
      "6 day output [[0.10809327]]\n",
      "7 day input [0.10427051 0.10852849 0.10076393 0.11060739 0.11571697 0.12150282\n",
      " 0.1183469  0.11549155 0.11211021 0.12510958 0.12651221 0.13943644\n",
      " 0.13693175 0.1331747  0.14850344 0.14770194 0.14654978 0.14534753\n",
      " 0.14547276 0.15629305 0.15441453 0.16345648 0.1661866  0.16578585\n",
      " 0.16959299 0.16859111 0.16200376 0.15211021 0.15125861 0.15201002\n",
      " 0.15827176 0.14221666 0.13660614 0.13041954 0.1261866  0.12804008\n",
      " 0.12265498 0.11944897 0.12303068 0.11927364 0.1265623  0.14174076\n",
      " 0.11772073 0.12140263 0.11403882 0.10985598 0.11932373 0.1253851\n",
      " 0.11742016 0.11496556 0.10917971 0.11003131 0.11251096 0.10770194\n",
      " 0.08926738 0.07854728 0.08919224 0.09833438 0.09908579 0.09665623\n",
      " 0.08328115 0.0841077  0.08050094 0.07889793 0.09054477 0.07899812\n",
      " 0.08909205 0.09244834 0.09272386 0.09154665 0.10126487 0.10672511\n",
      " 0.11396368 0.10647464 0.09507827 0.12247965 0.11646838 0.10973075\n",
      " 0.09565435 0.08025047 0.07899812 0.08035066 0.08180338 0.07020664\n",
      " 0.10026299 0.10735128 0.10379461 0.10820288 0.10507201 0.10990607\n",
      " 0.11133375 0.10205823 0.10205823 0.10489073 0.10564418 0.10621285\n",
      " 0.10670305 0.10716817 0.10762979 0.10809327]\n",
      "7 day output [[0.10855693]]\n",
      "8 day input [0.10852849 0.10076393 0.11060739 0.11571697 0.12150282 0.1183469\n",
      " 0.11549155 0.11211021 0.12510958 0.12651221 0.13943644 0.13693175\n",
      " 0.1331747  0.14850344 0.14770194 0.14654978 0.14534753 0.14547276\n",
      " 0.15629305 0.15441453 0.16345648 0.1661866  0.16578585 0.16959299\n",
      " 0.16859111 0.16200376 0.15211021 0.15125861 0.15201002 0.15827176\n",
      " 0.14221666 0.13660614 0.13041954 0.1261866  0.12804008 0.12265498\n",
      " 0.11944897 0.12303068 0.11927364 0.1265623  0.14174076 0.11772073\n",
      " 0.12140263 0.11403882 0.10985598 0.11932373 0.1253851  0.11742016\n",
      " 0.11496556 0.10917971 0.11003131 0.11251096 0.10770194 0.08926738\n",
      " 0.07854728 0.08919224 0.09833438 0.09908579 0.09665623 0.08328115\n",
      " 0.0841077  0.08050094 0.07889793 0.09054477 0.07899812 0.08909205\n",
      " 0.09244834 0.09272386 0.09154665 0.10126487 0.10672511 0.11396368\n",
      " 0.10647464 0.09507827 0.12247965 0.11646838 0.10973075 0.09565435\n",
      " 0.08025047 0.07899812 0.08035066 0.08180338 0.07020664 0.10026299\n",
      " 0.10735128 0.10379461 0.10820288 0.10507201 0.10990607 0.11133375\n",
      " 0.10205823 0.10205823 0.10489073 0.10564418 0.10621285 0.10670305\n",
      " 0.10716817 0.10762979 0.10809327 0.10855693]\n",
      "8 day output [[0.1090172]]\n",
      "9 day input [0.10076393 0.11060739 0.11571697 0.12150282 0.1183469  0.11549155\n",
      " 0.11211021 0.12510958 0.12651221 0.13943644 0.13693175 0.1331747\n",
      " 0.14850344 0.14770194 0.14654978 0.14534753 0.14547276 0.15629305\n",
      " 0.15441453 0.16345648 0.1661866  0.16578585 0.16959299 0.16859111\n",
      " 0.16200376 0.15211021 0.15125861 0.15201002 0.15827176 0.14221666\n",
      " 0.13660614 0.13041954 0.1261866  0.12804008 0.12265498 0.11944897\n",
      " 0.12303068 0.11927364 0.1265623  0.14174076 0.11772073 0.12140263\n",
      " 0.11403882 0.10985598 0.11932373 0.1253851  0.11742016 0.11496556\n",
      " 0.10917971 0.11003131 0.11251096 0.10770194 0.08926738 0.07854728\n",
      " 0.08919224 0.09833438 0.09908579 0.09665623 0.08328115 0.0841077\n",
      " 0.08050094 0.07889793 0.09054477 0.07899812 0.08909205 0.09244834\n",
      " 0.09272386 0.09154665 0.10126487 0.10672511 0.11396368 0.10647464\n",
      " 0.09507827 0.12247965 0.11646838 0.10973075 0.09565435 0.08025047\n",
      " 0.07899812 0.08035066 0.08180338 0.07020664 0.10026299 0.10735128\n",
      " 0.10379461 0.10820288 0.10507201 0.10990607 0.11133375 0.10205823\n",
      " 0.10205823 0.10489073 0.10564418 0.10621285 0.10670305 0.10716817\n",
      " 0.10762979 0.10809327 0.10855693 0.1090172 ]\n"
     ]
    },
    {
     "name": "stdout",
     "output_type": "stream",
     "text": [
      "9 day output [[0.10947054]]\n",
      "10 day input [0.11060739 0.11571697 0.12150282 0.1183469  0.11549155 0.11211021\n",
      " 0.12510958 0.12651221 0.13943644 0.13693175 0.1331747  0.14850344\n",
      " 0.14770194 0.14654978 0.14534753 0.14547276 0.15629305 0.15441453\n",
      " 0.16345648 0.1661866  0.16578585 0.16959299 0.16859111 0.16200376\n",
      " 0.15211021 0.15125861 0.15201002 0.15827176 0.14221666 0.13660614\n",
      " 0.13041954 0.1261866  0.12804008 0.12265498 0.11944897 0.12303068\n",
      " 0.11927364 0.1265623  0.14174076 0.11772073 0.12140263 0.11403882\n",
      " 0.10985598 0.11932373 0.1253851  0.11742016 0.11496556 0.10917971\n",
      " 0.11003131 0.11251096 0.10770194 0.08926738 0.07854728 0.08919224\n",
      " 0.09833438 0.09908579 0.09665623 0.08328115 0.0841077  0.08050094\n",
      " 0.07889793 0.09054477 0.07899812 0.08909205 0.09244834 0.09272386\n",
      " 0.09154665 0.10126487 0.10672511 0.11396368 0.10647464 0.09507827\n",
      " 0.12247965 0.11646838 0.10973075 0.09565435 0.08025047 0.07899812\n",
      " 0.08035066 0.08180338 0.07020664 0.10026299 0.10735128 0.10379461\n",
      " 0.10820288 0.10507201 0.10990607 0.11133375 0.10205823 0.10205823\n",
      " 0.10489073 0.10564418 0.10621285 0.10670305 0.10716817 0.10762979\n",
      " 0.10809327 0.10855693 0.1090172  0.10947054]\n",
      "10 day output [[0.10991435]]\n",
      "11 day input [0.11571697 0.12150282 0.1183469  0.11549155 0.11211021 0.12510958\n",
      " 0.12651221 0.13943644 0.13693175 0.1331747  0.14850344 0.14770194\n",
      " 0.14654978 0.14534753 0.14547276 0.15629305 0.15441453 0.16345648\n",
      " 0.1661866  0.16578585 0.16959299 0.16859111 0.16200376 0.15211021\n",
      " 0.15125861 0.15201002 0.15827176 0.14221666 0.13660614 0.13041954\n",
      " 0.1261866  0.12804008 0.12265498 0.11944897 0.12303068 0.11927364\n",
      " 0.1265623  0.14174076 0.11772073 0.12140263 0.11403882 0.10985598\n",
      " 0.11932373 0.1253851  0.11742016 0.11496556 0.10917971 0.11003131\n",
      " 0.11251096 0.10770194 0.08926738 0.07854728 0.08919224 0.09833438\n",
      " 0.09908579 0.09665623 0.08328115 0.0841077  0.08050094 0.07889793\n",
      " 0.09054477 0.07899812 0.08909205 0.09244834 0.09272386 0.09154665\n",
      " 0.10126487 0.10672511 0.11396368 0.10647464 0.09507827 0.12247965\n",
      " 0.11646838 0.10973075 0.09565435 0.08025047 0.07899812 0.08035066\n",
      " 0.08180338 0.07020664 0.10026299 0.10735128 0.10379461 0.10820288\n",
      " 0.10507201 0.10990607 0.11133375 0.10205823 0.10205823 0.10489073\n",
      " 0.10564418 0.10621285 0.10670305 0.10716817 0.10762979 0.10809327\n",
      " 0.10855693 0.1090172  0.10947054 0.10991435]\n",
      "11 day output [[0.11034703]]\n",
      "12 day input [0.12150282 0.1183469  0.11549155 0.11211021 0.12510958 0.12651221\n",
      " 0.13943644 0.13693175 0.1331747  0.14850344 0.14770194 0.14654978\n",
      " 0.14534753 0.14547276 0.15629305 0.15441453 0.16345648 0.1661866\n",
      " 0.16578585 0.16959299 0.16859111 0.16200376 0.15211021 0.15125861\n",
      " 0.15201002 0.15827176 0.14221666 0.13660614 0.13041954 0.1261866\n",
      " 0.12804008 0.12265498 0.11944897 0.12303068 0.11927364 0.1265623\n",
      " 0.14174076 0.11772073 0.12140263 0.11403882 0.10985598 0.11932373\n",
      " 0.1253851  0.11742016 0.11496556 0.10917971 0.11003131 0.11251096\n",
      " 0.10770194 0.08926738 0.07854728 0.08919224 0.09833438 0.09908579\n",
      " 0.09665623 0.08328115 0.0841077  0.08050094 0.07889793 0.09054477\n",
      " 0.07899812 0.08909205 0.09244834 0.09272386 0.09154665 0.10126487\n",
      " 0.10672511 0.11396368 0.10647464 0.09507827 0.12247965 0.11646838\n",
      " 0.10973075 0.09565435 0.08025047 0.07899812 0.08035066 0.08180338\n",
      " 0.07020664 0.10026299 0.10735128 0.10379461 0.10820288 0.10507201\n",
      " 0.10990607 0.11133375 0.10205823 0.10205823 0.10489073 0.10564418\n",
      " 0.10621285 0.10670305 0.10716817 0.10762979 0.10809327 0.10855693\n",
      " 0.1090172  0.10947054 0.10991435 0.11034703]\n",
      "12 day output [[0.11076787]]\n",
      "13 day input [0.1183469  0.11549155 0.11211021 0.12510958 0.12651221 0.13943644\n",
      " 0.13693175 0.1331747  0.14850344 0.14770194 0.14654978 0.14534753\n",
      " 0.14547276 0.15629305 0.15441453 0.16345648 0.1661866  0.16578585\n",
      " 0.16959299 0.16859111 0.16200376 0.15211021 0.15125861 0.15201002\n",
      " 0.15827176 0.14221666 0.13660614 0.13041954 0.1261866  0.12804008\n",
      " 0.12265498 0.11944897 0.12303068 0.11927364 0.1265623  0.14174076\n",
      " 0.11772073 0.12140263 0.11403882 0.10985598 0.11932373 0.1253851\n",
      " 0.11742016 0.11496556 0.10917971 0.11003131 0.11251096 0.10770194\n",
      " 0.08926738 0.07854728 0.08919224 0.09833438 0.09908579 0.09665623\n",
      " 0.08328115 0.0841077  0.08050094 0.07889793 0.09054477 0.07899812\n",
      " 0.08909205 0.09244834 0.09272386 0.09154665 0.10126487 0.10672511\n",
      " 0.11396368 0.10647464 0.09507827 0.12247965 0.11646838 0.10973075\n",
      " 0.09565435 0.08025047 0.07899812 0.08035066 0.08180338 0.07020664\n",
      " 0.10026299 0.10735128 0.10379461 0.10820288 0.10507201 0.10990607\n",
      " 0.11133375 0.10205823 0.10205823 0.10489073 0.10564418 0.10621285\n",
      " 0.10670305 0.10716817 0.10762979 0.10809327 0.10855693 0.1090172\n",
      " 0.10947054 0.10991435 0.11034703 0.11076787]\n",
      "13 day output [[0.11117676]]\n",
      "14 day input [0.11549155 0.11211021 0.12510958 0.12651221 0.13943644 0.13693175\n",
      " 0.1331747  0.14850344 0.14770194 0.14654978 0.14534753 0.14547276\n",
      " 0.15629305 0.15441453 0.16345648 0.1661866  0.16578585 0.16959299\n",
      " 0.16859111 0.16200376 0.15211021 0.15125861 0.15201002 0.15827176\n",
      " 0.14221666 0.13660614 0.13041954 0.1261866  0.12804008 0.12265498\n",
      " 0.11944897 0.12303068 0.11927364 0.1265623  0.14174076 0.11772073\n",
      " 0.12140263 0.11403882 0.10985598 0.11932373 0.1253851  0.11742016\n",
      " 0.11496556 0.10917971 0.11003131 0.11251096 0.10770194 0.08926738\n",
      " 0.07854728 0.08919224 0.09833438 0.09908579 0.09665623 0.08328115\n",
      " 0.0841077  0.08050094 0.07889793 0.09054477 0.07899812 0.08909205\n",
      " 0.09244834 0.09272386 0.09154665 0.10126487 0.10672511 0.11396368\n",
      " 0.10647464 0.09507827 0.12247965 0.11646838 0.10973075 0.09565435\n",
      " 0.08025047 0.07899812 0.08035066 0.08180338 0.07020664 0.10026299\n",
      " 0.10735128 0.10379461 0.10820288 0.10507201 0.10990607 0.11133375\n",
      " 0.10205823 0.10205823 0.10489073 0.10564418 0.10621285 0.10670305\n",
      " 0.10716817 0.10762979 0.10809327 0.10855693 0.1090172  0.10947054\n",
      " 0.10991435 0.11034703 0.11076787 0.11117676]\n",
      "14 day output [[0.11157411]]\n",
      "15 day input [0.11211021 0.12510958 0.12651221 0.13943644 0.13693175 0.1331747\n",
      " 0.14850344 0.14770194 0.14654978 0.14534753 0.14547276 0.15629305\n",
      " 0.15441453 0.16345648 0.1661866  0.16578585 0.16959299 0.16859111\n",
      " 0.16200376 0.15211021 0.15125861 0.15201002 0.15827176 0.14221666\n",
      " 0.13660614 0.13041954 0.1261866  0.12804008 0.12265498 0.11944897\n",
      " 0.12303068 0.11927364 0.1265623  0.14174076 0.11772073 0.12140263\n",
      " 0.11403882 0.10985598 0.11932373 0.1253851  0.11742016 0.11496556\n",
      " 0.10917971 0.11003131 0.11251096 0.10770194 0.08926738 0.07854728\n",
      " 0.08919224 0.09833438 0.09908579 0.09665623 0.08328115 0.0841077\n",
      " 0.08050094 0.07889793 0.09054477 0.07899812 0.08909205 0.09244834\n",
      " 0.09272386 0.09154665 0.10126487 0.10672511 0.11396368 0.10647464\n",
      " 0.09507827 0.12247965 0.11646838 0.10973075 0.09565435 0.08025047\n",
      " 0.07899812 0.08035066 0.08180338 0.07020664 0.10026299 0.10735128\n",
      " 0.10379461 0.10820288 0.10507201 0.10990607 0.11133375 0.10205823\n",
      " 0.10205823 0.10489073 0.10564418 0.10621285 0.10670305 0.10716817\n",
      " 0.10762979 0.10809327 0.10855693 0.1090172  0.10947054 0.10991435\n",
      " 0.11034703 0.11076787 0.11117676 0.11157411]\n",
      "15 day output [[0.11196057]]\n",
      "16 day input [0.12510958 0.12651221 0.13943644 0.13693175 0.1331747  0.14850344\n",
      " 0.14770194 0.14654978 0.14534753 0.14547276 0.15629305 0.15441453\n",
      " 0.16345648 0.1661866  0.16578585 0.16959299 0.16859111 0.16200376\n",
      " 0.15211021 0.15125861 0.15201002 0.15827176 0.14221666 0.13660614\n",
      " 0.13041954 0.1261866  0.12804008 0.12265498 0.11944897 0.12303068\n",
      " 0.11927364 0.1265623  0.14174076 0.11772073 0.12140263 0.11403882\n",
      " 0.10985598 0.11932373 0.1253851  0.11742016 0.11496556 0.10917971\n",
      " 0.11003131 0.11251096 0.10770194 0.08926738 0.07854728 0.08919224\n",
      " 0.09833438 0.09908579 0.09665623 0.08328115 0.0841077  0.08050094\n",
      " 0.07889793 0.09054477 0.07899812 0.08909205 0.09244834 0.09272386\n",
      " 0.09154665 0.10126487 0.10672511 0.11396368 0.10647464 0.09507827\n",
      " 0.12247965 0.11646838 0.10973075 0.09565435 0.08025047 0.07899812\n",
      " 0.08035066 0.08180338 0.07020664 0.10026299 0.10735128 0.10379461\n",
      " 0.10820288 0.10507201 0.10990607 0.11133375 0.10205823 0.10205823\n",
      " 0.10489073 0.10564418 0.10621285 0.10670305 0.10716817 0.10762979\n",
      " 0.10809327 0.10855693 0.1090172  0.10947054 0.10991435 0.11034703\n",
      " 0.11076787 0.11117676 0.11157411 0.11196057]\n",
      "16 day output [[0.11233691]]\n",
      "17 day input [0.12651221 0.13943644 0.13693175 0.1331747  0.14850344 0.14770194\n",
      " 0.14654978 0.14534753 0.14547276 0.15629305 0.15441453 0.16345648\n",
      " 0.1661866  0.16578585 0.16959299 0.16859111 0.16200376 0.15211021\n",
      " 0.15125861 0.15201002 0.15827176 0.14221666 0.13660614 0.13041954\n",
      " 0.1261866  0.12804008 0.12265498 0.11944897 0.12303068 0.11927364\n",
      " 0.1265623  0.14174076 0.11772073 0.12140263 0.11403882 0.10985598\n",
      " 0.11932373 0.1253851  0.11742016 0.11496556 0.10917971 0.11003131\n",
      " 0.11251096 0.10770194 0.08926738 0.07854728 0.08919224 0.09833438\n",
      " 0.09908579 0.09665623 0.08328115 0.0841077  0.08050094 0.07889793\n",
      " 0.09054477 0.07899812 0.08909205 0.09244834 0.09272386 0.09154665\n",
      " 0.10126487 0.10672511 0.11396368 0.10647464 0.09507827 0.12247965\n",
      " 0.11646838 0.10973075 0.09565435 0.08025047 0.07899812 0.08035066\n",
      " 0.08180338 0.07020664 0.10026299 0.10735128 0.10379461 0.10820288\n",
      " 0.10507201 0.10990607 0.11133375 0.10205823 0.10205823 0.10489073\n",
      " 0.10564418 0.10621285 0.10670305 0.10716817 0.10762979 0.10809327\n",
      " 0.10855693 0.1090172  0.10947054 0.10991435 0.11034703 0.11076787\n",
      " 0.11117676 0.11157411 0.11196057 0.11233691]\n",
      "17 day output [[0.11270414]]\n",
      "18 day input [0.13943644 0.13693175 0.1331747  0.14850344 0.14770194 0.14654978\n",
      " 0.14534753 0.14547276 0.15629305 0.15441453 0.16345648 0.1661866\n",
      " 0.16578585 0.16959299 0.16859111 0.16200376 0.15211021 0.15125861\n",
      " 0.15201002 0.15827176 0.14221666 0.13660614 0.13041954 0.1261866\n",
      " 0.12804008 0.12265498 0.11944897 0.12303068 0.11927364 0.1265623\n",
      " 0.14174076 0.11772073 0.12140263 0.11403882 0.10985598 0.11932373\n",
      " 0.1253851  0.11742016 0.11496556 0.10917971 0.11003131 0.11251096\n",
      " 0.10770194 0.08926738 0.07854728 0.08919224 0.09833438 0.09908579\n",
      " 0.09665623 0.08328115 0.0841077  0.08050094 0.07889793 0.09054477\n",
      " 0.07899812 0.08909205 0.09244834 0.09272386 0.09154665 0.10126487\n",
      " 0.10672511 0.11396368 0.10647464 0.09507827 0.12247965 0.11646838\n",
      " 0.10973075 0.09565435 0.08025047 0.07899812 0.08035066 0.08180338\n",
      " 0.07020664 0.10026299 0.10735128 0.10379461 0.10820288 0.10507201\n",
      " 0.10990607 0.11133375 0.10205823 0.10205823 0.10489073 0.10564418\n",
      " 0.10621285 0.10670305 0.10716817 0.10762979 0.10809327 0.10855693\n",
      " 0.1090172  0.10947054 0.10991435 0.11034703 0.11076787 0.11117676\n",
      " 0.11157411 0.11196057 0.11233691 0.11270414]\n"
     ]
    },
    {
     "name": "stdout",
     "output_type": "stream",
     "text": [
      "18 day output [[0.11306306]]\n",
      "19 day input [0.13693175 0.1331747  0.14850344 0.14770194 0.14654978 0.14534753\n",
      " 0.14547276 0.15629305 0.15441453 0.16345648 0.1661866  0.16578585\n",
      " 0.16959299 0.16859111 0.16200376 0.15211021 0.15125861 0.15201002\n",
      " 0.15827176 0.14221666 0.13660614 0.13041954 0.1261866  0.12804008\n",
      " 0.12265498 0.11944897 0.12303068 0.11927364 0.1265623  0.14174076\n",
      " 0.11772073 0.12140263 0.11403882 0.10985598 0.11932373 0.1253851\n",
      " 0.11742016 0.11496556 0.10917971 0.11003131 0.11251096 0.10770194\n",
      " 0.08926738 0.07854728 0.08919224 0.09833438 0.09908579 0.09665623\n",
      " 0.08328115 0.0841077  0.08050094 0.07889793 0.09054477 0.07899812\n",
      " 0.08909205 0.09244834 0.09272386 0.09154665 0.10126487 0.10672511\n",
      " 0.11396368 0.10647464 0.09507827 0.12247965 0.11646838 0.10973075\n",
      " 0.09565435 0.08025047 0.07899812 0.08035066 0.08180338 0.07020664\n",
      " 0.10026299 0.10735128 0.10379461 0.10820288 0.10507201 0.10990607\n",
      " 0.11133375 0.10205823 0.10205823 0.10489073 0.10564418 0.10621285\n",
      " 0.10670305 0.10716817 0.10762979 0.10809327 0.10855693 0.1090172\n",
      " 0.10947054 0.10991435 0.11034703 0.11076787 0.11117676 0.11157411\n",
      " 0.11196057 0.11233691 0.11270414 0.11306306]\n",
      "19 day output [[0.11341458]]\n",
      "20 day input [0.1331747  0.14850344 0.14770194 0.14654978 0.14534753 0.14547276\n",
      " 0.15629305 0.15441453 0.16345648 0.1661866  0.16578585 0.16959299\n",
      " 0.16859111 0.16200376 0.15211021 0.15125861 0.15201002 0.15827176\n",
      " 0.14221666 0.13660614 0.13041954 0.1261866  0.12804008 0.12265498\n",
      " 0.11944897 0.12303068 0.11927364 0.1265623  0.14174076 0.11772073\n",
      " 0.12140263 0.11403882 0.10985598 0.11932373 0.1253851  0.11742016\n",
      " 0.11496556 0.10917971 0.11003131 0.11251096 0.10770194 0.08926738\n",
      " 0.07854728 0.08919224 0.09833438 0.09908579 0.09665623 0.08328115\n",
      " 0.0841077  0.08050094 0.07889793 0.09054477 0.07899812 0.08909205\n",
      " 0.09244834 0.09272386 0.09154665 0.10126487 0.10672511 0.11396368\n",
      " 0.10647464 0.09507827 0.12247965 0.11646838 0.10973075 0.09565435\n",
      " 0.08025047 0.07899812 0.08035066 0.08180338 0.07020664 0.10026299\n",
      " 0.10735128 0.10379461 0.10820288 0.10507201 0.10990607 0.11133375\n",
      " 0.10205823 0.10205823 0.10489073 0.10564418 0.10621285 0.10670305\n",
      " 0.10716817 0.10762979 0.10809327 0.10855693 0.1090172  0.10947054\n",
      " 0.10991435 0.11034703 0.11076787 0.11117676 0.11157411 0.11196057\n",
      " 0.11233691 0.11270414 0.11306306 0.11341458]\n",
      "20 day output [[0.11375947]]\n",
      "21 day input [0.14850344 0.14770194 0.14654978 0.14534753 0.14547276 0.15629305\n",
      " 0.15441453 0.16345648 0.1661866  0.16578585 0.16959299 0.16859111\n",
      " 0.16200376 0.15211021 0.15125861 0.15201002 0.15827176 0.14221666\n",
      " 0.13660614 0.13041954 0.1261866  0.12804008 0.12265498 0.11944897\n",
      " 0.12303068 0.11927364 0.1265623  0.14174076 0.11772073 0.12140263\n",
      " 0.11403882 0.10985598 0.11932373 0.1253851  0.11742016 0.11496556\n",
      " 0.10917971 0.11003131 0.11251096 0.10770194 0.08926738 0.07854728\n",
      " 0.08919224 0.09833438 0.09908579 0.09665623 0.08328115 0.0841077\n",
      " 0.08050094 0.07889793 0.09054477 0.07899812 0.08909205 0.09244834\n",
      " 0.09272386 0.09154665 0.10126487 0.10672511 0.11396368 0.10647464\n",
      " 0.09507827 0.12247965 0.11646838 0.10973075 0.09565435 0.08025047\n",
      " 0.07899812 0.08035066 0.08180338 0.07020664 0.10026299 0.10735128\n",
      " 0.10379461 0.10820288 0.10507201 0.10990607 0.11133375 0.10205823\n",
      " 0.10205823 0.10489073 0.10564418 0.10621285 0.10670305 0.10716817\n",
      " 0.10762979 0.10809327 0.10855693 0.1090172  0.10947054 0.10991435\n",
      " 0.11034703 0.11076787 0.11117676 0.11157411 0.11196057 0.11233691\n",
      " 0.11270414 0.11306306 0.11341458 0.11375947]\n",
      "21 day output [[0.11409841]]\n",
      "22 day input [0.14770194 0.14654978 0.14534753 0.14547276 0.15629305 0.15441453\n",
      " 0.16345648 0.1661866  0.16578585 0.16959299 0.16859111 0.16200376\n",
      " 0.15211021 0.15125861 0.15201002 0.15827176 0.14221666 0.13660614\n",
      " 0.13041954 0.1261866  0.12804008 0.12265498 0.11944897 0.12303068\n",
      " 0.11927364 0.1265623  0.14174076 0.11772073 0.12140263 0.11403882\n",
      " 0.10985598 0.11932373 0.1253851  0.11742016 0.11496556 0.10917971\n",
      " 0.11003131 0.11251096 0.10770194 0.08926738 0.07854728 0.08919224\n",
      " 0.09833438 0.09908579 0.09665623 0.08328115 0.0841077  0.08050094\n",
      " 0.07889793 0.09054477 0.07899812 0.08909205 0.09244834 0.09272386\n",
      " 0.09154665 0.10126487 0.10672511 0.11396368 0.10647464 0.09507827\n",
      " 0.12247965 0.11646838 0.10973075 0.09565435 0.08025047 0.07899812\n",
      " 0.08035066 0.08180338 0.07020664 0.10026299 0.10735128 0.10379461\n",
      " 0.10820288 0.10507201 0.10990607 0.11133375 0.10205823 0.10205823\n",
      " 0.10489073 0.10564418 0.10621285 0.10670305 0.10716817 0.10762979\n",
      " 0.10809327 0.10855693 0.1090172  0.10947054 0.10991435 0.11034703\n",
      " 0.11076787 0.11117676 0.11157411 0.11196057 0.11233691 0.11270414\n",
      " 0.11306306 0.11341458 0.11375947 0.11409841]\n",
      "22 day output [[0.11443192]]\n",
      "23 day input [0.14654978 0.14534753 0.14547276 0.15629305 0.15441453 0.16345648\n",
      " 0.1661866  0.16578585 0.16959299 0.16859111 0.16200376 0.15211021\n",
      " 0.15125861 0.15201002 0.15827176 0.14221666 0.13660614 0.13041954\n",
      " 0.1261866  0.12804008 0.12265498 0.11944897 0.12303068 0.11927364\n",
      " 0.1265623  0.14174076 0.11772073 0.12140263 0.11403882 0.10985598\n",
      " 0.11932373 0.1253851  0.11742016 0.11496556 0.10917971 0.11003131\n",
      " 0.11251096 0.10770194 0.08926738 0.07854728 0.08919224 0.09833438\n",
      " 0.09908579 0.09665623 0.08328115 0.0841077  0.08050094 0.07889793\n",
      " 0.09054477 0.07899812 0.08909205 0.09244834 0.09272386 0.09154665\n",
      " 0.10126487 0.10672511 0.11396368 0.10647464 0.09507827 0.12247965\n",
      " 0.11646838 0.10973075 0.09565435 0.08025047 0.07899812 0.08035066\n",
      " 0.08180338 0.07020664 0.10026299 0.10735128 0.10379461 0.10820288\n",
      " 0.10507201 0.10990607 0.11133375 0.10205823 0.10205823 0.10489073\n",
      " 0.10564418 0.10621285 0.10670305 0.10716817 0.10762979 0.10809327\n",
      " 0.10855693 0.1090172  0.10947054 0.10991435 0.11034703 0.11076787\n",
      " 0.11117676 0.11157411 0.11196057 0.11233691 0.11270414 0.11306306\n",
      " 0.11341458 0.11375947 0.11409841 0.11443192]\n",
      "23 day output [[0.11476056]]\n",
      "24 day input [0.14534753 0.14547276 0.15629305 0.15441453 0.16345648 0.1661866\n",
      " 0.16578585 0.16959299 0.16859111 0.16200376 0.15211021 0.15125861\n",
      " 0.15201002 0.15827176 0.14221666 0.13660614 0.13041954 0.1261866\n",
      " 0.12804008 0.12265498 0.11944897 0.12303068 0.11927364 0.1265623\n",
      " 0.14174076 0.11772073 0.12140263 0.11403882 0.10985598 0.11932373\n",
      " 0.1253851  0.11742016 0.11496556 0.10917971 0.11003131 0.11251096\n",
      " 0.10770194 0.08926738 0.07854728 0.08919224 0.09833438 0.09908579\n",
      " 0.09665623 0.08328115 0.0841077  0.08050094 0.07889793 0.09054477\n",
      " 0.07899812 0.08909205 0.09244834 0.09272386 0.09154665 0.10126487\n",
      " 0.10672511 0.11396368 0.10647464 0.09507827 0.12247965 0.11646838\n",
      " 0.10973075 0.09565435 0.08025047 0.07899812 0.08035066 0.08180338\n",
      " 0.07020664 0.10026299 0.10735128 0.10379461 0.10820288 0.10507201\n",
      " 0.10990607 0.11133375 0.10205823 0.10205823 0.10489073 0.10564418\n",
      " 0.10621285 0.10670305 0.10716817 0.10762979 0.10809327 0.10855693\n",
      " 0.1090172  0.10947054 0.10991435 0.11034703 0.11076787 0.11117676\n",
      " 0.11157411 0.11196057 0.11233691 0.11270414 0.11306306 0.11341458\n",
      " 0.11375947 0.11409841 0.11443192 0.11476056]\n",
      "24 day output [[0.11508467]]\n",
      "25 day input [0.14547276 0.15629305 0.15441453 0.16345648 0.1661866  0.16578585\n",
      " 0.16959299 0.16859111 0.16200376 0.15211021 0.15125861 0.15201002\n",
      " 0.15827176 0.14221666 0.13660614 0.13041954 0.1261866  0.12804008\n",
      " 0.12265498 0.11944897 0.12303068 0.11927364 0.1265623  0.14174076\n",
      " 0.11772073 0.12140263 0.11403882 0.10985598 0.11932373 0.1253851\n",
      " 0.11742016 0.11496556 0.10917971 0.11003131 0.11251096 0.10770194\n",
      " 0.08926738 0.07854728 0.08919224 0.09833438 0.09908579 0.09665623\n",
      " 0.08328115 0.0841077  0.08050094 0.07889793 0.09054477 0.07899812\n",
      " 0.08909205 0.09244834 0.09272386 0.09154665 0.10126487 0.10672511\n",
      " 0.11396368 0.10647464 0.09507827 0.12247965 0.11646838 0.10973075\n",
      " 0.09565435 0.08025047 0.07899812 0.08035066 0.08180338 0.07020664\n",
      " 0.10026299 0.10735128 0.10379461 0.10820288 0.10507201 0.10990607\n",
      " 0.11133375 0.10205823 0.10205823 0.10489073 0.10564418 0.10621285\n",
      " 0.10670305 0.10716817 0.10762979 0.10809327 0.10855693 0.1090172\n",
      " 0.10947054 0.10991435 0.11034703 0.11076787 0.11117676 0.11157411\n",
      " 0.11196057 0.11233691 0.11270414 0.11306306 0.11341458 0.11375947\n",
      " 0.11409841 0.11443192 0.11476056 0.11508467]\n",
      "25 day output [[0.11540451]]\n",
      "26 day input [0.15629305 0.15441453 0.16345648 0.1661866  0.16578585 0.16959299\n",
      " 0.16859111 0.16200376 0.15211021 0.15125861 0.15201002 0.15827176\n",
      " 0.14221666 0.13660614 0.13041954 0.1261866  0.12804008 0.12265498\n",
      " 0.11944897 0.12303068 0.11927364 0.1265623  0.14174076 0.11772073\n",
      " 0.12140263 0.11403882 0.10985598 0.11932373 0.1253851  0.11742016\n",
      " 0.11496556 0.10917971 0.11003131 0.11251096 0.10770194 0.08926738\n",
      " 0.07854728 0.08919224 0.09833438 0.09908579 0.09665623 0.08328115\n",
      " 0.0841077  0.08050094 0.07889793 0.09054477 0.07899812 0.08909205\n",
      " 0.09244834 0.09272386 0.09154665 0.10126487 0.10672511 0.11396368\n",
      " 0.10647464 0.09507827 0.12247965 0.11646838 0.10973075 0.09565435\n",
      " 0.08025047 0.07899812 0.08035066 0.08180338 0.07020664 0.10026299\n",
      " 0.10735128 0.10379461 0.10820288 0.10507201 0.10990607 0.11133375\n",
      " 0.10205823 0.10205823 0.10489073 0.10564418 0.10621285 0.10670305\n",
      " 0.10716817 0.10762979 0.10809327 0.10855693 0.1090172  0.10947054\n",
      " 0.10991435 0.11034703 0.11076787 0.11117676 0.11157411 0.11196057\n",
      " 0.11233691 0.11270414 0.11306306 0.11341458 0.11375947 0.11409841\n",
      " 0.11443192 0.11476056 0.11508467 0.11540451]\n",
      "26 day output [[0.11572035]]\n",
      "27 day input [0.15441453 0.16345648 0.1661866  0.16578585 0.16959299 0.16859111\n",
      " 0.16200376 0.15211021 0.15125861 0.15201002 0.15827176 0.14221666\n",
      " 0.13660614 0.13041954 0.1261866  0.12804008 0.12265498 0.11944897\n",
      " 0.12303068 0.11927364 0.1265623  0.14174076 0.11772073 0.12140263\n",
      " 0.11403882 0.10985598 0.11932373 0.1253851  0.11742016 0.11496556\n",
      " 0.10917971 0.11003131 0.11251096 0.10770194 0.08926738 0.07854728\n",
      " 0.08919224 0.09833438 0.09908579 0.09665623 0.08328115 0.0841077\n",
      " 0.08050094 0.07889793 0.09054477 0.07899812 0.08909205 0.09244834\n",
      " 0.09272386 0.09154665 0.10126487 0.10672511 0.11396368 0.10647464\n",
      " 0.09507827 0.12247965 0.11646838 0.10973075 0.09565435 0.08025047\n",
      " 0.07899812 0.08035066 0.08180338 0.07020664 0.10026299 0.10735128\n",
      " 0.10379461 0.10820288 0.10507201 0.10990607 0.11133375 0.10205823\n",
      " 0.10205823 0.10489073 0.10564418 0.10621285 0.10670305 0.10716817\n",
      " 0.10762979 0.10809327 0.10855693 0.1090172  0.10947054 0.10991435\n",
      " 0.11034703 0.11076787 0.11117676 0.11157411 0.11196057 0.11233691\n",
      " 0.11270414 0.11306306 0.11341458 0.11375947 0.11409841 0.11443192\n",
      " 0.11476056 0.11508467 0.11540451 0.11572035]\n"
     ]
    },
    {
     "name": "stdout",
     "output_type": "stream",
     "text": [
      "27 day output [[0.11603232]]\n",
      "28 day input [0.16345648 0.1661866  0.16578585 0.16959299 0.16859111 0.16200376\n",
      " 0.15211021 0.15125861 0.15201002 0.15827176 0.14221666 0.13660614\n",
      " 0.13041954 0.1261866  0.12804008 0.12265498 0.11944897 0.12303068\n",
      " 0.11927364 0.1265623  0.14174076 0.11772073 0.12140263 0.11403882\n",
      " 0.10985598 0.11932373 0.1253851  0.11742016 0.11496556 0.10917971\n",
      " 0.11003131 0.11251096 0.10770194 0.08926738 0.07854728 0.08919224\n",
      " 0.09833438 0.09908579 0.09665623 0.08328115 0.0841077  0.08050094\n",
      " 0.07889793 0.09054477 0.07899812 0.08909205 0.09244834 0.09272386\n",
      " 0.09154665 0.10126487 0.10672511 0.11396368 0.10647464 0.09507827\n",
      " 0.12247965 0.11646838 0.10973075 0.09565435 0.08025047 0.07899812\n",
      " 0.08035066 0.08180338 0.07020664 0.10026299 0.10735128 0.10379461\n",
      " 0.10820288 0.10507201 0.10990607 0.11133375 0.10205823 0.10205823\n",
      " 0.10489073 0.10564418 0.10621285 0.10670305 0.10716817 0.10762979\n",
      " 0.10809327 0.10855693 0.1090172  0.10947054 0.10991435 0.11034703\n",
      " 0.11076787 0.11117676 0.11157411 0.11196057 0.11233691 0.11270414\n",
      " 0.11306306 0.11341458 0.11375947 0.11409841 0.11443192 0.11476056\n",
      " 0.11508467 0.11540451 0.11572035 0.11603232]\n",
      "28 day output [[0.11634051]]\n",
      "29 day input [0.1661866  0.16578585 0.16959299 0.16859111 0.16200376 0.15211021\n",
      " 0.15125861 0.15201002 0.15827176 0.14221666 0.13660614 0.13041954\n",
      " 0.1261866  0.12804008 0.12265498 0.11944897 0.12303068 0.11927364\n",
      " 0.1265623  0.14174076 0.11772073 0.12140263 0.11403882 0.10985598\n",
      " 0.11932373 0.1253851  0.11742016 0.11496556 0.10917971 0.11003131\n",
      " 0.11251096 0.10770194 0.08926738 0.07854728 0.08919224 0.09833438\n",
      " 0.09908579 0.09665623 0.08328115 0.0841077  0.08050094 0.07889793\n",
      " 0.09054477 0.07899812 0.08909205 0.09244834 0.09272386 0.09154665\n",
      " 0.10126487 0.10672511 0.11396368 0.10647464 0.09507827 0.12247965\n",
      " 0.11646838 0.10973075 0.09565435 0.08025047 0.07899812 0.08035066\n",
      " 0.08180338 0.07020664 0.10026299 0.10735128 0.10379461 0.10820288\n",
      " 0.10507201 0.10990607 0.11133375 0.10205823 0.10205823 0.10489073\n",
      " 0.10564418 0.10621285 0.10670305 0.10716817 0.10762979 0.10809327\n",
      " 0.10855693 0.1090172  0.10947054 0.10991435 0.11034703 0.11076787\n",
      " 0.11117676 0.11157411 0.11196057 0.11233691 0.11270414 0.11306306\n",
      " 0.11341458 0.11375947 0.11409841 0.11443192 0.11476056 0.11508467\n",
      " 0.11540451 0.11572035 0.11603232 0.11634051]\n",
      "29 day output [[0.11664504]]\n",
      "[[0.10489073395729065], [0.10564418137073517], [0.10621285438537598], [0.10670305043458939], [0.10716816782951355], [0.10762979090213776], [0.1080932691693306], [0.10855692625045776], [0.10901720076799393], [0.10947053879499435], [0.10991435497999191], [0.11034703254699707], [0.11076787114143372], [0.1111767590045929], [0.11157411336898804], [0.11196056753396988], [0.1123369112610817], [0.11270413547754288], [0.11306305974721909], [0.11341457813978195], [0.11375946551561356], [0.11409840732812881], [0.11443191766738892], [0.11476055532693863], [0.11508467048406601], [0.11540450900793076], [0.11572034657001495], [0.11603231728076935], [0.1163405105471611], [0.11664503812789917]]\n"
     ]
    }
   ],
   "source": [
    "from numpy import array\n",
    "\n",
    "lst_output=[]\n",
    "n_steps=100\n",
    "i=0\n",
    "while(i<30):\n",
    "    \n",
    "    if(len(temp_input)>100):\n",
    "        #print(temp_input)\n",
    "        x_input=np.array(temp_input[1:])\n",
    "        print(\"{} day input {}\".format(i,x_input))\n",
    "        x_input=x_input.reshape(1,-1)\n",
    "        x_input = x_input.reshape((1, n_steps, 1))\n",
    "        #print(x_input)\n",
    "        yhat = model.predict(x_input, verbose=0)\n",
    "        print(\"{} day output {}\".format(i,yhat))\n",
    "        temp_input.extend(yhat[0].tolist())\n",
    "        temp_input=temp_input[1:]\n",
    "        #print(temp_input)\n",
    "        lst_output.extend(yhat.tolist())\n",
    "        i=i+1\n",
    "    else:\n",
    "        x_input = x_input.reshape((1, n_steps,1))\n",
    "        yhat = model.predict(x_input, verbose=0)\n",
    "        print(yhat[0])\n",
    "        temp_input.extend(yhat[0].tolist())\n",
    "        print(len(temp_input))\n",
    "        lst_output.extend(yhat.tolist())\n",
    "        i=i+1\n",
    "    \n",
    "\n",
    "print(lst_output)\n"
   ]
  },
  {
   "cell_type": "code",
   "execution_count": 50,
   "id": "1faedc05",
   "metadata": {},
   "outputs": [],
   "source": [
    "day_new=np.arange(1,101)\n",
    "day_pred=np.arange(101,131)"
   ]
  },
  {
   "cell_type": "code",
   "execution_count": 54,
   "id": "44344555",
   "metadata": {},
   "outputs": [
    {
     "data": {
      "text/plain": [
       "[<matplotlib.lines.Line2D at 0x15a010346d0>]"
      ]
     },
     "execution_count": 54,
     "metadata": {},
     "output_type": "execute_result"
    },
    {
     "data": {
      "image/png": "[encoded data removed]",
      "text/plain": [
       "<Figure size 432x288 with 1 Axes>"
      ]
     },
     "metadata": {
      "needs_background": "light"
     },
     "output_type": "display_data"
    }
   ],
   "source": [
    "plt.plot(day_new,scaler.inverse_transform(df1[1157:]))\n",
    "plt.plot(day_pred,scaler.inverse_transform(lst_output))\n"
   ]
  },
  {
   "cell_type": "code",
   "execution_count": 55,
   "id": "37cfc1f9",
   "metadata": {},
   "outputs": [
    {
     "data": {
      "text/plain": [
       "[<matplotlib.lines.Line2D at 0x15a010bd1f0>]"
      ]
     },
     "execution_count": 55,
     "metadata": {},
     "output_type": "execute_result"
    },
    {
     "data": {
      "image/png": "[encoded data removed]",
      "text/plain": [
       "<Figure size 432x288 with 1 Axes>"
      ]
     },
     "metadata": {
      "needs_background": "light"
     },
     "output_type": "display_data"
    }
   ],
   "source": [
    "df3=df1.tolist()\n",
    "df3.extend(lst_output)\n",
    "plt.plot(df3[1200:])\n"
   ]
  },
  {
   "cell_type": "code",
   "execution_count": 56,
   "id": "3ead1ebd",
   "metadata": {},
   "outputs": [],
   "source": [
    "df3=scaler.inverse_transform(df3).tolist()"
   ]
  },
  {
   "cell_type": "code",
   "execution_count": 57,
   "id": "46afd319",
   "metadata": {},
   "outputs": [
    {
     "data": {
      "text/plain": [
       "[<matplotlib.lines.Line2D at 0x15a01111b80>]"
      ]
     },
     "execution_count": 57,
     "metadata": {},
     "output_type": "execute_result"
    },
    {
     "data": {
      "image/png": "[encoded data removed]",
      "text/plain": [
       "<Figure size 432x288 with 1 Axes>"
      ]
     },
     "metadata": {
      "needs_background": "light"
     },
     "output_type": "display_data"
    }
   ],
   "source": [
    "plt.plot(df3)"
   ]
  },
  {
   "cell_type": "code",
   "execution_count": null,
   "id": "0a58b848",
   "metadata": {},
   "outputs": [],
   "source": []
  }
 ],
 "metadata": {
  "kernelspec": {
   "display_name": "Python 3 (ipykernel)",
   "language": "python",
   "name": "python3"
  },
  "language_info": {
   "codemirror_mode": {
    "name": "ipython",
    "version": 3
   },
   "file_extension": ".py",
   "mimetype": "text/x-python",
   "name": "python",
   "nbconvert_exporter": "python",
   "pygments_lexer": "ipython3",
   "version": "3.9.12"
  }
 },
 "nbformat": 4,
 "nbformat_minor": 5
}
