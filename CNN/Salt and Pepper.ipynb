{
 "cells": [
  {
   "cell_type": "code",
   "execution_count": 1,
   "id": "d7b862da",
   "metadata": {},
   "outputs": [
    {
     "data": {
      "text/plain": [
       "True"
      ]
     },
     "execution_count": 1,
     "metadata": {},
     "output_type": "execute_result"
    }
   ],
   "source": [
    "import random\n",
    "import cv2\n",
    " \n",
    "def add_noise(img):\n",
    " \n",
    "    # Getting the dimensions of the image\n",
    "    row , col = img.shape\n",
    "     \n",
    "    # Randomly pick some pixels in the\n",
    "    # image for coloring them white\n",
    "    # Pick a random number between 300 and 10000\n",
    "    number_of_pixels = random.randint(300, 10000)\n",
    "    for i in range(number_of_pixels):\n",
    "       \n",
    "        # Pick a random y coordinate\n",
    "        y_coord=random.randint(0, row - 1)\n",
    "         \n",
    "        # Pick a random x coordinate\n",
    "        x_coord=random.randint(0, col - 1)\n",
    "         \n",
    "        # Color that pixel to white\n",
    "        img[y_coord][x_coord] = 255\n",
    "         \n",
    "    # Randomly pick some pixels in\n",
    "    # the image for coloring them black\n",
    "    # Pick a random number between 300 and 10000\n",
    "    number_of_pixels = random.randint(300 , 10000)\n",
    "    for i in range(number_of_pixels):\n",
    "       \n",
    "        # Pick a random y coordinate\n",
    "        y_coord=random.randint(0, row - 1)\n",
    "         \n",
    "        # Pick a random x coordinate\n",
    "        x_coord=random.randint(0, col - 1)\n",
    "         \n",
    "        # Color that pixel to black\n",
    "        img[y_coord][x_coord] = 0\n",
    "         \n",
    "    return img\n",
    " \n",
    "# salt-and-pepper noise can\n",
    "# be applied only to grayscale images\n",
    "# Reading the color image in grayscale image\n",
    "img = cv2.imread('Images/Dog_or_cat.jpg',\n",
    "                 cv2.IMREAD_GRAYSCALE)\n",
    " \n",
    "#Storing the image\n",
    "cv2.imwrite('Images/salt-and-pepper-lena.jpg',\n",
    "            add_noise(img))\n"
   ]
  },
  {
   "cell_type": "code",
   "execution_count": null,
   "id": "77cd8350",
   "metadata": {},
   "outputs": [],
   "source": []
  }
 ],
 "metadata": {
  "kernelspec": {
   "display_name": "Python 3 (ipykernel)",
   "language": "python",
   "name": "python3"
  },
  "language_info": {
   "codemirror_mode": {
    "name": "ipython",
    "version": 3
   },
   "file_extension": ".py",
   "mimetype": "text/x-python",
   "name": "python",
   "nbconvert_exporter": "python",
   "pygments_lexer": "ipython3",
   "version": "3.9.12"
  }
 },
 "nbformat": 4,
 "nbformat_minor": 5
}
