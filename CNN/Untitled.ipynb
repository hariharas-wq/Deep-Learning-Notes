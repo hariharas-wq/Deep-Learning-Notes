{
 "cells": [
  {
   "cell_type": "code",
   "execution_count": 7,
   "id": "94bb74ed",
   "metadata": {},
   "outputs": [],
   "source": [
    "from keras.preprocessing.image import ImageDataGenerator\n",
    "from tensorflow.keras.utils import img_to_array\n",
    "from tensorflow.keras.utils import array_to_img\n",
    "from tensorflow.keras.utils import load_img\n",
    "\n"
   ]
  },
  {
   "cell_type": "code",
   "execution_count": 14,
   "id": "bfe0efd5",
   "metadata": {},
   "outputs": [],
   "source": [
    "datagen=ImageDataGenerator(rotation_range=40,width_shift_range=0.2,height_shift_range=0.2,shear_range=0.2,zoom_range=0.2,horizontal_flip=True,fill_mode='nearest')\n",
    "img=load_img('Images/Dog_or_cat.jpg') #Image\n",
    "X=img_to_array(img)\n",
    "X=X.reshape((1,)+X.shape)\n",
    "\n",
    "#this.flow() command below generates batches of randomly transformed images\n",
    "#and saves the result in 'preview/' directory\n",
    "\n",
    "i=0\n",
    "for batch in datagen.flow(X,batch_size=1,save_to_dir='preview',save_prefix='cat',save_format='jpeg'):\n",
    "    i+=1\n",
    "    if i>20:\n",
    "        break\n",
    "        "
   ]
  },
  {
   "cell_type": "code",
   "execution_count": 10,
   "id": "55b30473",
   "metadata": {},
   "outputs": [
    {
     "data": {
      "text/plain": [
       "(1199, 1200, 3)"
      ]
     },
     "execution_count": 10,
     "metadata": {},
     "output_type": "execute_result"
    }
   ],
   "source": [
    "X.shape"
   ]
  },
  {
   "cell_type": "code",
   "execution_count": null,
   "id": "6c010c65",
   "metadata": {},
   "outputs": [],
   "source": []
  }
 ],
 "metadata": {
  "kernelspec": {
   "display_name": "Python 3 (ipykernel)",
   "language": "python",
   "name": "python3"
  },
  "language_info": {
   "codemirror_mode": {
    "name": "ipython",
    "version": 3
   },
   "file_extension": ".py",
   "mimetype": "text/x-python",
   "name": "python",
   "nbconvert_exporter": "python",
   "pygments_lexer": "ipython3",
   "version": "3.9.12"
  }
 },
 "nbformat": 4,
 "nbformat_minor": 5
}
